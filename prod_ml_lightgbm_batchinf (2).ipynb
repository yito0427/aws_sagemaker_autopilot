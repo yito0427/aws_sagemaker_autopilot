{
 "cells": [
  {
   "cell_type": "markdown",
   "id": "a34c6958-dde2-469f-aefd-ea5efaa0a055",
   "metadata": {},
   "source": [
    "# S3に配置されたCSVファイルをビルトインLightGBMモデルで学習し、バッチ推論する\n",
    "SageMakerノートブックインスタンスで実行\n",
    "\n",
    "* インスタンス：ml.r5.8xlarge\n",
    "* Kernel : conda_python3"
   ]
  },
  {
   "cell_type": "markdown",
   "id": "82d36571-3863-433e-83dd-880205dc1a30",
   "metadata": {},
   "source": [
    "# 0.環境確認"
   ]
  },
  {
   "cell_type": "code",
   "execution_count": 1,
   "id": "1bc7a8a4-bd1a-49da-a5d1-bfbb58314c03",
   "metadata": {
    "tags": []
   },
   "outputs": [
    {
     "name": "stdout",
     "output_type": "stream",
     "text": [
      "/home/ec2-user/SageMaker/amazon-sagemaker-examples/introduction_to_amazon_algorithms/lightgbm_catboost_tabular\n"
     ]
    }
   ],
   "source": [
    "!pwd"
   ]
  },
  {
   "cell_type": "code",
   "execution_count": 2,
   "id": "fc219587-b454-45d6-9272-ec3910f16c6c",
   "metadata": {
    "tags": []
   },
   "outputs": [
    {
     "name": "stdout",
     "output_type": "stream",
     "text": [
      "Linux ip-172-16-5-249.ec2.internal 5.10.157-139.675.amzn2.x86_64 #1 SMP Thu Dec 8 01:29:11 UTC 2022 x86_64 x86_64 x86_64 GNU/Linux\n"
     ]
    }
   ],
   "source": [
    "!uname -a"
   ]
  },
  {
   "cell_type": "code",
   "execution_count": 3,
   "id": "074211c0-ca2d-4be3-bd10-6953441a259c",
   "metadata": {
    "tags": []
   },
   "outputs": [
    {
     "name": "stdout",
     "output_type": "stream",
     "text": [
      "Python 3.10.8\n"
     ]
    }
   ],
   "source": [
    "!python -V"
   ]
  },
  {
   "cell_type": "markdown",
   "id": "cb99c7d1-05d2-4c02-aef8-7265e4f6ec72",
   "metadata": {},
   "source": [
    "# 1.サンプルデータ作成し、分割、S3に配置する（ソリューションでは不要）\n",
    "\n",
    "* 1日1億レコードを想定する\n",
    "* 学習(train)データとして、1週間(7日間)を想定する。\n",
    "** 1日1ファイルとする。7ファイルがS3のtrainディレクトリに配置される。\n",
    "* 評価(valid)データとして、1日を想定する。validディレクトリに配置される。\n",
    "* テスト(test)データとして、1日を想定する。testディレクトリに配置される。\n",
    "\n",
    "合計で、7+1+1=9億レコードを初めに生成し、分割してS3に配置する。"
   ]
  },
  {
   "cell_type": "markdown",
   "id": "e0f0fa03-dcae-47cd-8146-9311bb7fd26a",
   "metadata": {},
   "source": [
    "## データフォーマットについて\n",
    "\n",
    "* 1列目が目的変数（ビルトインLightGBMの仕様）\n",
    "* CSV形式、ヘッダなし"
   ]
  },
  {
   "cell_type": "markdown",
   "id": "26578a83-42ae-4f99-8934-e5f9f8ea68b2",
   "metadata": {},
   "source": [
    "## 1-1. サンプルデータ作成"
   ]
  },
  {
   "cell_type": "code",
   "execution_count": 4,
   "id": "6a7990b5-0579-483c-8584-3c9352c90087",
   "metadata": {
    "tags": []
   },
   "outputs": [],
   "source": [
    "import pandas as pd\n",
    "import numpy as np\n",
    "\n",
    "#num_row = 900000000 # 9日分9億レコード\n",
    "#num_row = 90000 # テスト用。9日分9万レコード（動作確認用）\n",
    "num_row = 900 # テスト用。9日分900レコード（動作確認用）\n",
    "\n",
    "# DataFrameを作成\n",
    "df = pd.DataFrame({\n",
    "    'target': np.random.randint(100, 1001, size=num_row),\n",
    "    'feature_1': np.random.randint(100, 1001, size=num_row),\n",
    "    'feature_2': np.random.randint(1, 10001, size=num_row),\n",
    "    'feature_3': np.random.randint(1, 10001, size=num_row),\n",
    "    'feature_4': np.random.randint(1, 10001, size=num_row),\n",
    "    'feature_5': np.random.randint(1, 10001, size=num_row),\n",
    "    'feature_6': np.random.randint(1, 10001, size=num_row),\n",
    "    'feature_7': np.random.randint(1, 10001, size=num_row),\n",
    "    'feature_8': np.random.randint(1, 10001, size=num_row),\n",
    "    'feature_9': np.random.randint(1, 10001, size=num_row),\n",
    "    'feature_10': np.random.randint(1, 10001, size=num_row),\n",
    "    'feature_11': np.random.randint(1, 10001, size=num_row),\n",
    "    'feature_12': np.random.randint(1, 10001, size=num_row),\n",
    "    'feature_13': np.random.randint(1, 10001, size=num_row),\n",
    "    'feature_14': np.random.randint(1, 10001, size=num_row),\n",
    "    'feature_15': np.random.randint(1, 10001, size=num_row),\n",
    "    'feature_16': np.random.randint(1, 10001, size=num_row),\n",
    "    'feature_17': np.random.randint(1, 10001, size=num_row),\n",
    "    'feature_18': np.random.randint(1, 10001, size=num_row),\n",
    "    'feature_19': np.random.randint(1, 10001, size=num_row),\n",
    "    'feature_20': np.random.randint(1, 10001, size=num_row),    \n",
    "})"
   ]
  },
  {
   "cell_type": "code",
   "execution_count": 5,
   "id": "0c14ae45-6959-41fd-93a2-5db630ef0877",
   "metadata": {
    "tags": []
   },
   "outputs": [
    {
     "name": "stdout",
     "output_type": "stream",
     "text": [
      "(900, 21)\n"
     ]
    },
    {
     "data": {
      "text/html": [
       "<div>\n",
       "<style scoped>\n",
       "    .dataframe tbody tr th:only-of-type {\n",
       "        vertical-align: middle;\n",
       "    }\n",
       "\n",
       "    .dataframe tbody tr th {\n",
       "        vertical-align: top;\n",
       "    }\n",
       "\n",
       "    .dataframe thead th {\n",
       "        text-align: right;\n",
       "    }\n",
       "</style>\n",
       "<table border=\"1\" class=\"dataframe\">\n",
       "  <thead>\n",
       "    <tr style=\"text-align: right;\">\n",
       "      <th></th>\n",
       "      <th>target</th>\n",
       "      <th>feature_1</th>\n",
       "      <th>feature_2</th>\n",
       "      <th>feature_3</th>\n",
       "      <th>feature_4</th>\n",
       "      <th>feature_5</th>\n",
       "      <th>feature_6</th>\n",
       "      <th>feature_7</th>\n",
       "      <th>feature_8</th>\n",
       "      <th>feature_9</th>\n",
       "      <th>...</th>\n",
       "      <th>feature_11</th>\n",
       "      <th>feature_12</th>\n",
       "      <th>feature_13</th>\n",
       "      <th>feature_14</th>\n",
       "      <th>feature_15</th>\n",
       "      <th>feature_16</th>\n",
       "      <th>feature_17</th>\n",
       "      <th>feature_18</th>\n",
       "      <th>feature_19</th>\n",
       "      <th>feature_20</th>\n",
       "    </tr>\n",
       "  </thead>\n",
       "  <tbody>\n",
       "    <tr>\n",
       "      <th>0</th>\n",
       "      <td>650</td>\n",
       "      <td>999</td>\n",
       "      <td>6337</td>\n",
       "      <td>4516</td>\n",
       "      <td>5141</td>\n",
       "      <td>8957</td>\n",
       "      <td>4056</td>\n",
       "      <td>1556</td>\n",
       "      <td>4451</td>\n",
       "      <td>5543</td>\n",
       "      <td>...</td>\n",
       "      <td>986</td>\n",
       "      <td>869</td>\n",
       "      <td>3478</td>\n",
       "      <td>3479</td>\n",
       "      <td>642</td>\n",
       "      <td>8955</td>\n",
       "      <td>2592</td>\n",
       "      <td>1949</td>\n",
       "      <td>4219</td>\n",
       "      <td>2281</td>\n",
       "    </tr>\n",
       "    <tr>\n",
       "      <th>1</th>\n",
       "      <td>850</td>\n",
       "      <td>331</td>\n",
       "      <td>4486</td>\n",
       "      <td>6472</td>\n",
       "      <td>875</td>\n",
       "      <td>8782</td>\n",
       "      <td>1347</td>\n",
       "      <td>3985</td>\n",
       "      <td>9668</td>\n",
       "      <td>2015</td>\n",
       "      <td>...</td>\n",
       "      <td>6503</td>\n",
       "      <td>5011</td>\n",
       "      <td>5320</td>\n",
       "      <td>4879</td>\n",
       "      <td>3008</td>\n",
       "      <td>394</td>\n",
       "      <td>4861</td>\n",
       "      <td>5425</td>\n",
       "      <td>503</td>\n",
       "      <td>7741</td>\n",
       "    </tr>\n",
       "    <tr>\n",
       "      <th>2</th>\n",
       "      <td>430</td>\n",
       "      <td>104</td>\n",
       "      <td>6124</td>\n",
       "      <td>5173</td>\n",
       "      <td>9849</td>\n",
       "      <td>7845</td>\n",
       "      <td>1125</td>\n",
       "      <td>4458</td>\n",
       "      <td>9421</td>\n",
       "      <td>9332</td>\n",
       "      <td>...</td>\n",
       "      <td>2834</td>\n",
       "      <td>7203</td>\n",
       "      <td>1987</td>\n",
       "      <td>3287</td>\n",
       "      <td>5884</td>\n",
       "      <td>7886</td>\n",
       "      <td>1825</td>\n",
       "      <td>837</td>\n",
       "      <td>7571</td>\n",
       "      <td>8673</td>\n",
       "    </tr>\n",
       "    <tr>\n",
       "      <th>3</th>\n",
       "      <td>401</td>\n",
       "      <td>794</td>\n",
       "      <td>172</td>\n",
       "      <td>545</td>\n",
       "      <td>769</td>\n",
       "      <td>5808</td>\n",
       "      <td>6382</td>\n",
       "      <td>5973</td>\n",
       "      <td>3524</td>\n",
       "      <td>7090</td>\n",
       "      <td>...</td>\n",
       "      <td>9164</td>\n",
       "      <td>724</td>\n",
       "      <td>7033</td>\n",
       "      <td>706</td>\n",
       "      <td>3355</td>\n",
       "      <td>2887</td>\n",
       "      <td>5479</td>\n",
       "      <td>8750</td>\n",
       "      <td>5223</td>\n",
       "      <td>4977</td>\n",
       "    </tr>\n",
       "    <tr>\n",
       "      <th>4</th>\n",
       "      <td>235</td>\n",
       "      <td>909</td>\n",
       "      <td>4152</td>\n",
       "      <td>3815</td>\n",
       "      <td>2136</td>\n",
       "      <td>8185</td>\n",
       "      <td>7315</td>\n",
       "      <td>4390</td>\n",
       "      <td>8935</td>\n",
       "      <td>2856</td>\n",
       "      <td>...</td>\n",
       "      <td>8366</td>\n",
       "      <td>3113</td>\n",
       "      <td>3994</td>\n",
       "      <td>8925</td>\n",
       "      <td>5892</td>\n",
       "      <td>8729</td>\n",
       "      <td>4265</td>\n",
       "      <td>9417</td>\n",
       "      <td>7007</td>\n",
       "      <td>4181</td>\n",
       "    </tr>\n",
       "  </tbody>\n",
       "</table>\n",
       "<p>5 rows × 21 columns</p>\n",
       "</div>"
      ],
      "text/plain": [
       "   target  feature_1  feature_2  feature_3  feature_4  feature_5  feature_6  \\\n",
       "0     650        999       6337       4516       5141       8957       4056   \n",
       "1     850        331       4486       6472        875       8782       1347   \n",
       "2     430        104       6124       5173       9849       7845       1125   \n",
       "3     401        794        172        545        769       5808       6382   \n",
       "4     235        909       4152       3815       2136       8185       7315   \n",
       "\n",
       "   feature_7  feature_8  feature_9  ...  feature_11  feature_12  feature_13  \\\n",
       "0       1556       4451       5543  ...         986         869        3478   \n",
       "1       3985       9668       2015  ...        6503        5011        5320   \n",
       "2       4458       9421       9332  ...        2834        7203        1987   \n",
       "3       5973       3524       7090  ...        9164         724        7033   \n",
       "4       4390       8935       2856  ...        8366        3113        3994   \n",
       "\n",
       "   feature_14  feature_15  feature_16  feature_17  feature_18  feature_19  \\\n",
       "0        3479         642        8955        2592        1949        4219   \n",
       "1        4879        3008         394        4861        5425         503   \n",
       "2        3287        5884        7886        1825         837        7571   \n",
       "3         706        3355        2887        5479        8750        5223   \n",
       "4        8925        5892        8729        4265        9417        7007   \n",
       "\n",
       "   feature_20  \n",
       "0        2281  \n",
       "1        7741  \n",
       "2        8673  \n",
       "3        4977  \n",
       "4        4181  \n",
       "\n",
       "[5 rows x 21 columns]"
      ]
     },
     "execution_count": 5,
     "metadata": {},
     "output_type": "execute_result"
    }
   ],
   "source": [
    "# Check\n",
    "print(df.shape)\n",
    "df.head()"
   ]
  },
  {
   "cell_type": "markdown",
   "id": "277574bc-1ae2-4e1e-9df9-1d8bc91c98e2",
   "metadata": {},
   "source": [
    "## 1-2. データ分割"
   ]
  },
  {
   "cell_type": "code",
   "execution_count": 6,
   "id": "6333448f-840a-4ca4-b72f-6271e6aad2cf",
   "metadata": {
    "tags": []
   },
   "outputs": [],
   "source": [
    "yx_tr = df[:int(7 * num_row/9)]\n",
    "yx_va = df[int(7 * num_row/9):int(8 * num_row/9)]\n",
    "yx_te = df[int(8 * num_row/9):]\n",
    "\n",
    "y_te = yx_te.iloc[:, 0]\n",
    "x_te = yx_te.iloc[:, 1:]"
   ]
  },
  {
   "cell_type": "code",
   "execution_count": 7,
   "id": "738594bf-e14c-4218-99d5-9d2624887a0e",
   "metadata": {
    "tags": []
   },
   "outputs": [
    {
     "name": "stdout",
     "output_type": "stream",
     "text": [
      "(700, 21)\n",
      "(100, 21)\n",
      "(100, 21)\n",
      "(100,)\n",
      "(100, 20)\n"
     ]
    }
   ],
   "source": [
    "# Check\n",
    "print(yx_tr.shape)\n",
    "print(yx_va.shape)\n",
    "print(yx_te.shape)\n",
    "print(y_te.shape)\n",
    "print(x_te.shape)"
   ]
  },
  {
   "cell_type": "markdown",
   "id": "4d7e0ce5-5800-429b-a797-10d3ddc4d160",
   "metadata": {},
   "source": [
    "## 1-3. S3にDataFrameから直接アップロード\n",
    "\n",
    "https://stackoverflow.com/questions/38154040/save-dataframe-to-csv-directly-to-s3-python\n",
    "\n",
    "s3://sagemaker-us-east-1-805433377179/analytics_ml/input_sample/"
   ]
  },
  {
   "cell_type": "code",
   "execution_count": 8,
   "id": "d08779a3-858f-4d51-81ff-13de0a3a6698",
   "metadata": {
    "tags": []
   },
   "outputs": [],
   "source": [
    "import sagemaker, boto3, json\n",
    "from sagemaker import get_execution_role\n",
    "\n",
    "aws_role = get_execution_role()\n",
    "aws_region = boto3.Session().region_name\n",
    "sess = sagemaker.Session()\n",
    "account = sagemaker.Session().account_id()"
   ]
  },
  {
   "cell_type": "code",
   "execution_count": 9,
   "id": "5b4c3cba-2194-4e37-ac33-c01966530161",
   "metadata": {
    "tags": []
   },
   "outputs": [
    {
     "name": "stdout",
     "output_type": "stream",
     "text": [
      "arn:aws:iam::805433377179:role/service-role/AmazonSageMaker-ExecutionRole-20230412T165202\n",
      "us-east-1\n",
      "<sagemaker.session.Session object at 0x7feba93d4610>\n",
      "805433377179\n"
     ]
    }
   ],
   "source": [
    "# Check\n",
    "print(aws_role)\n",
    "print(aws_region)\n",
    "print(sess)\n",
    "print(account)"
   ]
  },
  {
   "cell_type": "code",
   "execution_count": null,
   "id": "4230374b-9d11-4684-aba6-a8f869fb24b6",
   "metadata": {},
   "outputs": [],
   "source": []
  },
  {
   "cell_type": "code",
   "execution_count": 10,
   "id": "d2cfa53c-3457-4107-a186-229f8648bdd0",
   "metadata": {
    "tags": []
   },
   "outputs": [],
   "source": [
    "import s3fs"
   ]
  },
  {
   "cell_type": "code",
   "execution_count": 11,
   "id": "84b13a3b-23de-46e3-9523-06080f73eaa4",
   "metadata": {
    "tags": []
   },
   "outputs": [],
   "source": [
    "bucket_name = f'sagemaker-{aws_region}-{account}'\n",
    "prefix = 'analytics_ml/input_sample'"
   ]
  },
  {
   "cell_type": "code",
   "execution_count": 12,
   "id": "65f51fff-8f20-42c8-a9d1-0a8db2fcfcd9",
   "metadata": {
    "tags": []
   },
   "outputs": [],
   "source": [
    "s3 = s3fs.S3FileSystem(anon=False)"
   ]
  },
  {
   "cell_type": "code",
   "execution_count": 13,
   "id": "9beea0d1-315a-4d06-863d-f441ed4ee77b",
   "metadata": {
    "tags": []
   },
   "outputs": [
    {
     "name": "stdout",
     "output_type": "stream",
     "text": [
      "1\n",
      "2\n",
      "3\n",
      "4\n",
      "5\n",
      "6\n",
      "7\n"
     ]
    }
   ],
   "source": [
    "for i in range(1,8):\n",
    "    print(i)\n",
    "    filename = f'train_yyyymmdd_{i}.csv'\n",
    "    with s3.open(f'{bucket_name}/{prefix}/train/{filename}.csv','w') as f:\n",
    "        yx_tr[int((i-1) * num_row/9):int(i * num_row/9)].to_csv(f, index=False, header=False)"
   ]
  },
  {
   "cell_type": "code",
   "execution_count": 14,
   "id": "a8b937c7-8e9b-488d-9eba-606adface6f2",
   "metadata": {
    "tags": []
   },
   "outputs": [],
   "source": [
    "i=8\n",
    "filename = f'valid_yyyymmdd_{i}.csv'\n",
    "with s3.open(f'{bucket_name}/{prefix}/valid/{filename}.csv','w') as f:\n",
    "    yx_va.to_csv(f, index=False, header=False)\n",
    "\n",
    "i=9\n",
    "filename = f'test_yyyymmdd_{i}.csv'\n",
    "with s3.open(f'{bucket_name}/{prefix}/test/{filename}.csv','w') as f:\n",
    "    x_te.to_csv(f, index=False, header=False)"
   ]
  },
  {
   "cell_type": "markdown",
   "id": "713478b0-8ec2-4cae-a725-d5fecc002e0f",
   "metadata": {},
   "source": [
    "以上の作業は、ソリューションではRedshiftで実施されます。"
   ]
  },
  {
   "cell_type": "markdown",
   "id": "823e085e-3871-4082-8212-490a7aa07322",
   "metadata": {},
   "source": [
    "# 2.ビルトインLightGBMによる学習\n",
    "\n",
    "https://sagemaker-examples.readthedocs.io/en/latest/introduction_to_amazon_algorithms/lightgbm_catboost_tabular/Amazon_Tabular_Regression_LightGBM_CatBoost.html"
   ]
  },
  {
   "cell_type": "markdown",
   "id": "49ecb25c-3147-48b8-9534-53945c0a2508",
   "metadata": {},
   "source": [
    "## 2-1. コンテナイメージ、ソース、モデルを取得"
   ]
  },
  {
   "cell_type": "code",
   "execution_count": 19,
   "id": "a952b903-4487-4a23-9bf2-27fa838042ad",
   "metadata": {
    "tags": []
   },
   "outputs": [
    {
     "name": "stdout",
     "output_type": "stream",
     "text": [
      "=========== Container image for training =============\n",
      "763104351884.dkr.ecr.us-east-1.amazonaws.com/pytorch-training:1.9.0-cpu-py38\n"
     ]
    }
   ],
   "source": [
    "from sagemaker import image_uris, model_uris, script_uris\n",
    "\n",
    "\n",
    "train_model_id, train_model_version, train_scope = \"lightgbm-regression-model\", \"*\", \"training\"\n",
    "\n",
    "training_instance_type = \"ml.m5.xlarge\"\n",
    "\n",
    "# Retrieve the docker image\n",
    "train_image_uri = image_uris.retrieve(\n",
    "    region=None,\n",
    "    framework=None,\n",
    "    model_id=train_model_id,\n",
    "    model_version=train_model_version,\n",
    "    image_scope=train_scope,\n",
    "    instance_type=training_instance_type,\n",
    ")\n",
    "\n",
    "print(\"============= Container image for training =============\")\n",
    "print(train_image_uri)"
   ]
  },
  {
   "cell_type": "code",
   "execution_count": 16,
   "id": "e58f2eb0-345c-4bbd-88f1-5d27534042f3",
   "metadata": {
    "tags": []
   },
   "outputs": [
    {
     "name": "stdout",
     "output_type": "stream",
     "text": [
      "s3://jumpstart-cache-prod-us-east-1/source-directory-tarballs/lightgbm/transfer_learning/regression/v2.1.1/sourcedir.tar.gz\n"
     ]
    }
   ],
   "source": [
    "# Retrieve the training script\n",
    "train_source_uri = script_uris.retrieve(\n",
    "    model_id=train_model_id, model_version=train_model_version, script_scope=train_scope\n",
    ")\n",
    "\n",
    "print(\"============= Code for training =============\")\n",
    "print(train_source_uri)"
   ]
  },
  {
   "cell_type": "code",
   "execution_count": 20,
   "id": "17ca09d8-9a31-4e6b-b750-2f4ad994ee93",
   "metadata": {
    "tags": []
   },
   "outputs": [
    {
     "name": "stdout",
     "output_type": "stream",
     "text": [
      "============= pre-trained model of LightGBM =============\n",
      "s3://jumpstart-cache-prod-us-east-1/lightgbm-training/train-lightgbm-regression-model.tar.gz\n"
     ]
    }
   ],
   "source": [
    "# Retrieve the pre-trained model tarball to further fine-tune\n",
    "train_model_uri = model_uris.retrieve(\n",
    "    model_id=train_model_id, model_version=train_model_version, model_scope=train_scope\n",
    ")\n",
    "\n",
    "print(\"============= pre-trained model of LightGBM =============\")\n",
    "print(train_model_uri)"
   ]
  },
  {
   "cell_type": "markdown",
   "id": "65fda1ee-930f-4404-a208-cca1fec1e51b",
   "metadata": {},
   "source": [
    "＜確認＞ fine-tuningするの？？"
   ]
  },
  {
   "cell_type": "markdown",
   "id": "1dd41849-ba36-49c3-bf45-67d46c807f2a",
   "metadata": {},
   "source": [
    "## 2-2. パラメータ設定"
   ]
  },
  {
   "cell_type": "code",
   "execution_count": 21,
   "id": "fb190e5d-e2eb-4b8e-b33f-56e935d949c2",
   "metadata": {
    "tags": []
   },
   "outputs": [
    {
     "name": "stdout",
     "output_type": "stream",
     "text": [
      "{'num_boost_round': '500', 'early_stopping_rounds': '30', 'metric': 'auto', 'learning_rate': '0.009', 'num_leaves': '67', 'feature_fraction': '0.74', 'bagging_fraction': '0.53', 'bagging_freq': '5', 'max_depth': '11', 'min_data_in_leaf': '26', 'max_delta_step': '0.0', 'lambda_l1': '0.0', 'lambda_l2': '0.0', 'boosting': 'gbdt', 'min_gain_to_split': '0.0', 'tree_learner': 'serial', 'feature_fraction_bynode': '1.0', 'is_unbalance': 'False', 'max_bin': '255', 'tweedie_variance_power': '1.5', 'num_threads': '0', 'verbosity': '1', 'use_dask': 'False'}\n"
     ]
    }
   ],
   "source": [
    "from sagemaker import hyperparameters\n",
    "\n",
    "# Retrieve the default hyper-parameters for fine-tuning the model\n",
    "hyperparameters = hyperparameters.retrieve_default(\n",
    "    model_id=train_model_id, model_version=train_model_version\n",
    ")\n",
    "\n",
    "# [Optional] Override default hyperparameters with custom values\n",
    "hyperparameters[\n",
    "    \"num_boost_round\"\n",
    "] = \"500\"  # The same hyperparameter is named as \"iterations\" for CatBoost\n",
    "print(hyperparameters)"
   ]
  },
  {
   "cell_type": "code",
   "execution_count": null,
   "id": "21b44def-f4a3-49ce-bf85-c211d549d461",
   "metadata": {},
   "outputs": [],
   "source": []
  },
  {
   "cell_type": "code",
   "execution_count": 22,
   "id": "7daf5897-d123-4c3f-a1dd-21ba77dfa416",
   "metadata": {
    "tags": []
   },
   "outputs": [
    {
     "name": "stdout",
     "output_type": "stream",
     "text": [
      "s3://sagemaker-us-east-1-805433377179/analytics_ml/input_sample/train\n",
      "s3://sagemaker-us-east-1-805433377179/analytics_ml/input_sample/valid\n"
     ]
    }
   ],
   "source": [
    "# Sample training data is available in this bucket\n",
    "training_data_bucket = sess.default_bucket()\n",
    "training_data_prefix = \"analytics_ml/input_sample\"\n",
    "training_dataset_s3_path = f\"s3://{training_data_bucket}/{training_data_prefix}/train\"\n",
    "validation_dataset_s3_path = f\"s3://{training_data_bucket}/{training_data_prefix}/valid\"\n",
    "print(training_dataset_s3_path)\n",
    "print(validation_dataset_s3_path)"
   ]
  },
  {
   "cell_type": "code",
   "execution_count": 23,
   "id": "8cb23ab3-b3ee-4482-9a15-bacde32e8a8c",
   "metadata": {
    "tags": []
   },
   "outputs": [
    {
     "name": "stdout",
     "output_type": "stream",
     "text": [
      "s3://sagemaker-us-east-1-805433377179/analytics_ml/output_sample/output_train\n"
     ]
    }
   ],
   "source": [
    "output_bucket = sess.default_bucket()\n",
    "output_prefix = \"analytics_ml/output_sample\"\n",
    "s3_output_location = f\"s3://{output_bucket}/{output_prefix}/output_train\"\n",
    "print(s3_output_location)"
   ]
  },
  {
   "cell_type": "code",
   "execution_count": 24,
   "id": "8ccb440d-72cf-4d69-a1bd-8a9bd02db262",
   "metadata": {
    "tags": []
   },
   "outputs": [
    {
     "data": {
      "text/plain": [
       "'s3://sagemaker-us-east-1-805433377179/analytics_ml/output_sample/output_train'"
      ]
     },
     "execution_count": 24,
     "metadata": {},
     "output_type": "execute_result"
    }
   ],
   "source": [
    "s3_output_location"
   ]
  },
  {
   "cell_type": "markdown",
   "id": "2821f0a2-cdca-489e-85c5-a5f9680aae0b",
   "metadata": {},
   "source": [
    "## 2-3. Estimator定義"
   ]
  },
  {
   "cell_type": "code",
   "execution_count": 25,
   "id": "93e8a9a9-b46a-464d-99f4-9cd9677c24cb",
   "metadata": {
    "tags": []
   },
   "outputs": [
    {
     "name": "stdout",
     "output_type": "stream",
     "text": [
      "lightgbm-regression-model-training-2023-04-26-01-39-04-281\n"
     ]
    }
   ],
   "source": [
    "from sagemaker.estimator import Estimator\n",
    "from sagemaker.utils import name_from_base\n",
    "\n",
    "training_job_name = name_from_base(f\"{train_model_id}-training\")\n",
    "print(training_job_name)\n",
    "\n",
    "# Create SageMaker Estimator instance\n",
    "tabular_estimator = Estimator(\n",
    "    role=aws_role,\n",
    "    image_uri=train_image_uri,\n",
    "    source_dir=train_source_uri,\n",
    "    model_uri=train_model_uri,\n",
    "    entry_point=\"transfer_learning.py\",\n",
    "    instance_count=1,\n",
    "    instance_type=training_instance_type,\n",
    "    max_run=360000,\n",
    "    hyperparameters=hyperparameters,\n",
    "    output_path=s3_output_location,\n",
    ")"
   ]
  },
  {
   "cell_type": "markdown",
   "id": "eb9b361c-87fc-4167-98b8-e5e38616daf8",
   "metadata": {},
   "source": [
    "## 2-4.学習"
   ]
  },
  {
   "cell_type": "code",
   "execution_count": 26,
   "id": "aa5c726f-d605-43f5-a85d-7253a21aaa45",
   "metadata": {
    "tags": []
   },
   "outputs": [
    {
     "name": "stderr",
     "output_type": "stream",
     "text": [
      "INFO:sagemaker:Creating training-job with name: lightgbm-regression-model-training-2023-04-26-01-39-04-281\n"
     ]
    },
    {
     "name": "stdout",
     "output_type": "stream",
     "text": [
      "2023-04-26 01:39:15 Starting - Starting the training job...\n",
      "2023-04-26 01:39:30 Starting - Preparing the instances for training...\n",
      "2023-04-26 01:40:15 Downloading - Downloading input data...\n",
      "2023-04-26 01:40:40 Training - Downloading the training image...\n",
      "2023-04-26 01:41:06 Training - Training image download completed. Training in progress.\u001b[34mbash: cannot set terminal process group (-1): Inappropriate ioctl for device\u001b[0m\n",
      "\u001b[34mbash: no job control in this shell\u001b[0m\n",
      "\u001b[34m2023-04-26 01:41:14,731 sagemaker-training-toolkit INFO     Imported framework sagemaker_pytorch_container.training\u001b[0m\n",
      "\u001b[34m2023-04-26 01:41:14,733 sagemaker-training-toolkit INFO     No GPUs detected (normal if no gpus installed)\u001b[0m\n",
      "\u001b[34m2023-04-26 01:41:14,742 sagemaker_pytorch_container.training INFO     Block until all host DNS lookups succeed.\u001b[0m\n",
      "\u001b[34m2023-04-26 01:41:14,744 sagemaker_pytorch_container.training INFO     Invoking user training script.\u001b[0m\n",
      "\u001b[34m2023-04-26 01:41:15,205 sagemaker-training-toolkit INFO     Installing dependencies from requirements.txt:\u001b[0m\n",
      "\u001b[34m/opt/conda/bin/python3.8 -m pip install -r requirements.txt\u001b[0m\n",
      "\u001b[34mProcessing ./lib/dask/dask-2022.12.1-py3-none-any.whl\u001b[0m\n",
      "\u001b[34mProcessing ./lib/distributed/distributed-2022.12.1-py3-none-any.whl\u001b[0m\n",
      "\u001b[34mProcessing ./lib/graphviz/graphviz-0.17-py3-none-any.whl\u001b[0m\n",
      "\u001b[34mProcessing ./lib/HeapDict/HeapDict-1.0.1-py3-none-any.whl\u001b[0m\n",
      "\u001b[34mProcessing ./lib/lightgbm/lightgbm-3.3.3-py3-none-manylinux1_x86_64.whl\u001b[0m\n",
      "\u001b[34mProcessing ./lib/locket/locket-1.0.0-py2.py3-none-any.whl\u001b[0m\n",
      "\u001b[34mProcessing ./lib/msgpack/msgpack-1.0.4-cp38-cp38-manylinux_2_17_x86_64.manylinux2014_x86_64.whl\u001b[0m\n",
      "\u001b[34mProcessing ./lib/partd/partd-1.3.0-py3-none-any.whl\u001b[0m\n",
      "\u001b[34mProcessing ./lib/sortedcontainers/sortedcontainers-2.4.0-py2.py3-none-any.whl\u001b[0m\n",
      "\u001b[34mProcessing ./lib/tblib/tblib-1.7.0-py2.py3-none-any.whl\u001b[0m\n",
      "\u001b[34mProcessing ./lib/toolz/toolz-0.12.0-py3-none-any.whl\u001b[0m\n",
      "\u001b[34mProcessing ./lib/zict/zict-2.2.0-py2.py3-none-any.whl\u001b[0m\n",
      "\u001b[34mProcessing ./lib/sagemaker_jumpstart_tabular_script_utilities/sagemaker_jumpstart_tabular_script_utilities-1.0.0-py2.py3-none-any.whl\u001b[0m\n",
      "\u001b[34mRequirement already satisfied: click>=7.0 in /opt/conda/lib/python3.8/site-packages (from dask==2022.12.1->-r requirements.txt (line 1)) (8.0.3)\u001b[0m\n",
      "\u001b[34mRequirement already satisfied: cloudpickle>=1.1.1 in /opt/conda/lib/python3.8/site-packages (from dask==2022.12.1->-r requirements.txt (line 1)) (2.0.0)\u001b[0m\n",
      "\u001b[34mRequirement already satisfied: fsspec>=0.6.0 in /opt/conda/lib/python3.8/site-packages (from dask==2022.12.1->-r requirements.txt (line 1)) (2021.10.0)\u001b[0m\n",
      "\u001b[34mRequirement already satisfied: pyyaml>=5.3.1 in /opt/conda/lib/python3.8/site-packages (from dask==2022.12.1->-r requirements.txt (line 1)) (5.4.1)\u001b[0m\n",
      "\u001b[34mRequirement already satisfied: packaging>=20.0 in /opt/conda/lib/python3.8/site-packages (from dask==2022.12.1->-r requirements.txt (line 1)) (21.0)\u001b[0m\n",
      "\u001b[34mRequirement already satisfied: tornado>=6.0.3 in /opt/conda/lib/python3.8/site-packages (from distributed==2022.12.1->-r requirements.txt (line 2)) (6.1)\u001b[0m\n",
      "\u001b[34mRequirement already satisfied: urllib3 in /opt/conda/lib/python3.8/site-packages (from distributed==2022.12.1->-r requirements.txt (line 2)) (1.26.7)\u001b[0m\n",
      "\u001b[34mRequirement already satisfied: psutil>=5.0 in /opt/conda/lib/python3.8/site-packages (from distributed==2022.12.1->-r requirements.txt (line 2)) (5.6.7)\u001b[0m\n",
      "\u001b[34mRequirement already satisfied: jinja2 in /opt/conda/lib/python3.8/site-packages (from distributed==2022.12.1->-r requirements.txt (line 2)) (3.0.2)\u001b[0m\n",
      "\u001b[34mRequirement already satisfied: scikit-learn!=0.22.0 in /opt/conda/lib/python3.8/site-packages (from lightgbm==3.3.3->-r requirements.txt (line 5)) (0.24.2)\u001b[0m\n",
      "\u001b[34mRequirement already satisfied: wheel in /opt/conda/lib/python3.8/site-packages (from lightgbm==3.3.3->-r requirements.txt (line 5)) (0.37.0)\u001b[0m\n",
      "\u001b[34mRequirement already satisfied: numpy in /opt/conda/lib/python3.8/site-packages (from lightgbm==3.3.3->-r requirements.txt (line 5)) (1.19.1)\u001b[0m\n",
      "\u001b[34mRequirement already satisfied: scipy in /opt/conda/lib/python3.8/site-packages (from lightgbm==3.3.3->-r requirements.txt (line 5)) (1.7.1)\u001b[0m\n",
      "\u001b[34mRequirement already satisfied: pyparsing>=2.0.2 in /opt/conda/lib/python3.8/site-packages (from packaging>=20.0->dask==2022.12.1->-r requirements.txt (line 1)) (2.4.7)\u001b[0m\n",
      "\u001b[34mRequirement already satisfied: joblib>=0.11 in /opt/conda/lib/python3.8/site-packages (from scikit-learn!=0.22.0->lightgbm==3.3.3->-r requirements.txt (line 5)) (1.0.1)\u001b[0m\n",
      "\u001b[34mRequirement already satisfied: threadpoolctl>=2.0.0 in /opt/conda/lib/python3.8/site-packages (from scikit-learn!=0.22.0->lightgbm==3.3.3->-r requirements.txt (line 5)) (2.2.0)\u001b[0m\n",
      "\u001b[34mRequirement already satisfied: MarkupSafe>=2.0 in /opt/conda/lib/python3.8/site-packages (from jinja2->distributed==2022.12.1->-r requirements.txt (line 2)) (2.0.1)\u001b[0m\n",
      "\u001b[34mInstalling collected packages: toolz, locket, partd, HeapDict, zict, tblib, sortedcontainers, msgpack, dask, sagemaker-jumpstart-tabular-script-utilities, lightgbm, graphviz, distributed\u001b[0m\n",
      "\u001b[34mSuccessfully installed HeapDict-1.0.1 dask-2022.12.1 distributed-2022.12.1 graphviz-0.17 lightgbm-3.3.3 locket-1.0.0 msgpack-1.0.4 partd-1.3.0 sagemaker-jumpstart-tabular-script-utilities-1.0.0 sortedcontainers-2.4.0 tblib-1.7.0 toolz-0.12.0 zict-2.2.0\u001b[0m\n",
      "\u001b[34mWARNING: Running pip as the 'root' user can result in broken permissions and conflicting behaviour with the system package manager. It is recommended to use a virtual environment instead: https://pip.pypa.io/warnings/venv\u001b[0m\n",
      "\u001b[34m2023-04-26 01:41:18,093 sagemaker-training-toolkit INFO     No GPUs detected (normal if no gpus installed)\u001b[0m\n",
      "\u001b[34m2023-04-26 01:41:18,106 sagemaker-training-toolkit INFO     No GPUs detected (normal if no gpus installed)\u001b[0m\n",
      "\u001b[34m2023-04-26 01:41:18,116 sagemaker-training-toolkit INFO     No GPUs detected (normal if no gpus installed)\u001b[0m\n",
      "\u001b[34m2023-04-26 01:41:18,124 sagemaker-training-toolkit INFO     Invoking user script\u001b[0m\n",
      "\u001b[34mTraining Env:\u001b[0m\n",
      "\u001b[34m{\n",
      "    \"additional_framework_parameters\": {},\n",
      "    \"channel_input_dirs\": {\n",
      "        \"model\": \"/opt/ml/input/data/model\",\n",
      "        \"training\": \"/opt/ml/input/data/training\",\n",
      "        \"validation\": \"/opt/ml/input/data/validation\"\n",
      "    },\n",
      "    \"current_host\": \"algo-1\",\n",
      "    \"framework_module\": \"sagemaker_pytorch_container.training:main\",\n",
      "    \"hosts\": [\n",
      "        \"algo-1\"\n",
      "    ],\n",
      "    \"hyperparameters\": {\n",
      "        \"bagging_fraction\": \"0.53\",\n",
      "        \"bagging_freq\": \"5\",\n",
      "        \"boosting\": \"gbdt\",\n",
      "        \"early_stopping_rounds\": \"30\",\n",
      "        \"feature_fraction\": \"0.74\",\n",
      "        \"feature_fraction_bynode\": \"1.0\",\n",
      "        \"is_unbalance\": \"False\",\n",
      "        \"lambda_l1\": \"0.0\",\n",
      "        \"lambda_l2\": \"0.0\",\n",
      "        \"learning_rate\": \"0.009\",\n",
      "        \"max_bin\": \"255\",\n",
      "        \"max_delta_step\": \"0.0\",\n",
      "        \"max_depth\": \"11\",\n",
      "        \"metric\": \"auto\",\n",
      "        \"min_data_in_leaf\": \"26\",\n",
      "        \"min_gain_to_split\": \"0.0\",\n",
      "        \"num_boost_round\": \"500\",\n",
      "        \"num_leaves\": \"67\",\n",
      "        \"num_threads\": \"0\",\n",
      "        \"tree_learner\": \"serial\",\n",
      "        \"tweedie_variance_power\": \"1.5\",\n",
      "        \"use_dask\": \"False\",\n",
      "        \"verbosity\": \"1\"\n",
      "    },\n",
      "    \"input_config_dir\": \"/opt/ml/input/config\",\n",
      "    \"input_data_config\": {\n",
      "        \"model\": {\n",
      "            \"ContentType\": \"application/x-sagemaker-model\",\n",
      "            \"TrainingInputMode\": \"File\",\n",
      "            \"S3DistributionType\": \"FullyReplicated\",\n",
      "            \"RecordWrapperType\": \"None\"\n",
      "        },\n",
      "        \"training\": {\n",
      "            \"TrainingInputMode\": \"File\",\n",
      "            \"S3DistributionType\": \"FullyReplicated\",\n",
      "            \"RecordWrapperType\": \"None\"\n",
      "        },\n",
      "        \"validation\": {\n",
      "            \"TrainingInputMode\": \"File\",\n",
      "            \"S3DistributionType\": \"FullyReplicated\",\n",
      "            \"RecordWrapperType\": \"None\"\n",
      "        }\n",
      "    },\n",
      "    \"input_dir\": \"/opt/ml/input\",\n",
      "    \"is_master\": true,\n",
      "    \"job_name\": \"lightgbm-regression-model-training-2023-04-26-01-39-04-281\",\n",
      "    \"log_level\": 20,\n",
      "    \"master_hostname\": \"algo-1\",\n",
      "    \"model_dir\": \"/opt/ml/model\",\n",
      "    \"module_dir\": \"s3://jumpstart-cache-prod-us-east-1/source-directory-tarballs/lightgbm/transfer_learning/regression/v2.1.1/sourcedir.tar.gz\",\n",
      "    \"module_name\": \"transfer_learning\",\n",
      "    \"network_interface_name\": \"eth0\",\n",
      "    \"num_cpus\": 4,\n",
      "    \"num_gpus\": 0,\n",
      "    \"output_data_dir\": \"/opt/ml/output/data\",\n",
      "    \"output_dir\": \"/opt/ml/output\",\n",
      "    \"output_intermediate_dir\": \"/opt/ml/output/intermediate\",\n",
      "    \"resource_config\": {\n",
      "        \"current_host\": \"algo-1\",\n",
      "        \"current_instance_type\": \"ml.m5.xlarge\",\n",
      "        \"current_group_name\": \"homogeneousCluster\",\n",
      "        \"hosts\": [\n",
      "            \"algo-1\"\n",
      "        ],\n",
      "        \"instance_groups\": [\n",
      "            {\n",
      "                \"instance_group_name\": \"homogeneousCluster\",\n",
      "                \"instance_type\": \"ml.m5.xlarge\",\n",
      "                \"hosts\": [\n",
      "                    \"algo-1\"\n",
      "                ]\n",
      "            }\n",
      "        ],\n",
      "        \"network_interface_name\": \"eth0\"\n",
      "    },\n",
      "    \"user_entry_point\": \"transfer_learning.py\"\u001b[0m\n",
      "\u001b[34m}\u001b[0m\n",
      "\u001b[34mEnvironment variables:\u001b[0m\n",
      "\u001b[34mSM_HOSTS=[\"algo-1\"]\u001b[0m\n",
      "\u001b[34mSM_NETWORK_INTERFACE_NAME=eth0\u001b[0m\n",
      "\u001b[34mSM_HPS={\"bagging_fraction\":\"0.53\",\"bagging_freq\":\"5\",\"boosting\":\"gbdt\",\"early_stopping_rounds\":\"30\",\"feature_fraction\":\"0.74\",\"feature_fraction_bynode\":\"1.0\",\"is_unbalance\":\"False\",\"lambda_l1\":\"0.0\",\"lambda_l2\":\"0.0\",\"learning_rate\":\"0.009\",\"max_bin\":\"255\",\"max_delta_step\":\"0.0\",\"max_depth\":\"11\",\"metric\":\"auto\",\"min_data_in_leaf\":\"26\",\"min_gain_to_split\":\"0.0\",\"num_boost_round\":\"500\",\"num_leaves\":\"67\",\"num_threads\":\"0\",\"tree_learner\":\"serial\",\"tweedie_variance_power\":\"1.5\",\"use_dask\":\"False\",\"verbosity\":\"1\"}\u001b[0m\n",
      "\u001b[34mSM_USER_ENTRY_POINT=transfer_learning.py\u001b[0m\n",
      "\u001b[34mSM_FRAMEWORK_PARAMS={}\u001b[0m\n",
      "\u001b[34mSM_RESOURCE_CONFIG={\"current_group_name\":\"homogeneousCluster\",\"current_host\":\"algo-1\",\"current_instance_type\":\"ml.m5.xlarge\",\"hosts\":[\"algo-1\"],\"instance_groups\":[{\"hosts\":[\"algo-1\"],\"instance_group_name\":\"homogeneousCluster\",\"instance_type\":\"ml.m5.xlarge\"}],\"network_interface_name\":\"eth0\"}\u001b[0m\n",
      "\u001b[34mSM_INPUT_DATA_CONFIG={\"model\":{\"ContentType\":\"application/x-sagemaker-model\",\"RecordWrapperType\":\"None\",\"S3DistributionType\":\"FullyReplicated\",\"TrainingInputMode\":\"File\"},\"training\":{\"RecordWrapperType\":\"None\",\"S3DistributionType\":\"FullyReplicated\",\"TrainingInputMode\":\"File\"},\"validation\":{\"RecordWrapperType\":\"None\",\"S3DistributionType\":\"FullyReplicated\",\"TrainingInputMode\":\"File\"}}\u001b[0m\n",
      "\u001b[34mSM_OUTPUT_DATA_DIR=/opt/ml/output/data\u001b[0m\n",
      "\u001b[34mSM_CHANNELS=[\"model\",\"training\",\"validation\"]\u001b[0m\n",
      "\u001b[34mSM_CURRENT_HOST=algo-1\u001b[0m\n",
      "\u001b[34mSM_MODULE_NAME=transfer_learning\u001b[0m\n",
      "\u001b[34mSM_LOG_LEVEL=20\u001b[0m\n",
      "\u001b[34mSM_FRAMEWORK_MODULE=sagemaker_pytorch_container.training:main\u001b[0m\n",
      "\u001b[34mSM_INPUT_DIR=/opt/ml/input\u001b[0m\n",
      "\u001b[34mSM_INPUT_CONFIG_DIR=/opt/ml/input/config\u001b[0m\n",
      "\u001b[34mSM_OUTPUT_DIR=/opt/ml/output\u001b[0m\n",
      "\u001b[34mSM_NUM_CPUS=4\u001b[0m\n",
      "\u001b[34mSM_NUM_GPUS=0\u001b[0m\n",
      "\u001b[34mSM_MODEL_DIR=/opt/ml/model\u001b[0m\n",
      "\u001b[34mSM_MODULE_DIR=s3://jumpstart-cache-prod-us-east-1/source-directory-tarballs/lightgbm/transfer_learning/regression/v2.1.1/sourcedir.tar.gz\u001b[0m\n",
      "\u001b[34mSM_TRAINING_ENV={\"additional_framework_parameters\":{},\"channel_input_dirs\":{\"model\":\"/opt/ml/input/data/model\",\"training\":\"/opt/ml/input/data/training\",\"validation\":\"/opt/ml/input/data/validation\"},\"current_host\":\"algo-1\",\"framework_module\":\"sagemaker_pytorch_container.training:main\",\"hosts\":[\"algo-1\"],\"hyperparameters\":{\"bagging_fraction\":\"0.53\",\"bagging_freq\":\"5\",\"boosting\":\"gbdt\",\"early_stopping_rounds\":\"30\",\"feature_fraction\":\"0.74\",\"feature_fraction_bynode\":\"1.0\",\"is_unbalance\":\"False\",\"lambda_l1\":\"0.0\",\"lambda_l2\":\"0.0\",\"learning_rate\":\"0.009\",\"max_bin\":\"255\",\"max_delta_step\":\"0.0\",\"max_depth\":\"11\",\"metric\":\"auto\",\"min_data_in_leaf\":\"26\",\"min_gain_to_split\":\"0.0\",\"num_boost_round\":\"500\",\"num_leaves\":\"67\",\"num_threads\":\"0\",\"tree_learner\":\"serial\",\"tweedie_variance_power\":\"1.5\",\"use_dask\":\"False\",\"verbosity\":\"1\"},\"input_config_dir\":\"/opt/ml/input/config\",\"input_data_config\":{\"model\":{\"ContentType\":\"application/x-sagemaker-model\",\"RecordWrapperType\":\"None\",\"S3DistributionType\":\"FullyReplicated\",\"TrainingInputMode\":\"File\"},\"training\":{\"RecordWrapperType\":\"None\",\"S3DistributionType\":\"FullyReplicated\",\"TrainingInputMode\":\"File\"},\"validation\":{\"RecordWrapperType\":\"None\",\"S3DistributionType\":\"FullyReplicated\",\"TrainingInputMode\":\"File\"}},\"input_dir\":\"/opt/ml/input\",\"is_master\":true,\"job_name\":\"lightgbm-regression-model-training-2023-04-26-01-39-04-281\",\"log_level\":20,\"master_hostname\":\"algo-1\",\"model_dir\":\"/opt/ml/model\",\"module_dir\":\"s3://jumpstart-cache-prod-us-east-1/source-directory-tarballs/lightgbm/transfer_learning/regression/v2.1.1/sourcedir.tar.gz\",\"module_name\":\"transfer_learning\",\"network_interface_name\":\"eth0\",\"num_cpus\":4,\"num_gpus\":0,\"output_data_dir\":\"/opt/ml/output/data\",\"output_dir\":\"/opt/ml/output\",\"output_intermediate_dir\":\"/opt/ml/output/intermediate\",\"resource_config\":{\"current_group_name\":\"homogeneousCluster\",\"current_host\":\"algo-1\",\"current_instance_type\":\"ml.m5.xlarge\",\"hosts\":[\"algo-1\"],\"instance_groups\":[{\"hosts\":[\"algo-1\"],\"instance_group_name\":\"homogeneousCluster\",\"instance_type\":\"ml.m5.xlarge\"}],\"network_interface_name\":\"eth0\"},\"user_entry_point\":\"transfer_learning.py\"}\u001b[0m\n",
      "\u001b[34mSM_USER_ARGS=[\"--bagging_fraction\",\"0.53\",\"--bagging_freq\",\"5\",\"--boosting\",\"gbdt\",\"--early_stopping_rounds\",\"30\",\"--feature_fraction\",\"0.74\",\"--feature_fraction_bynode\",\"1.0\",\"--is_unbalance\",\"False\",\"--lambda_l1\",\"0.0\",\"--lambda_l2\",\"0.0\",\"--learning_rate\",\"0.009\",\"--max_bin\",\"255\",\"--max_delta_step\",\"0.0\",\"--max_depth\",\"11\",\"--metric\",\"auto\",\"--min_data_in_leaf\",\"26\",\"--min_gain_to_split\",\"0.0\",\"--num_boost_round\",\"500\",\"--num_leaves\",\"67\",\"--num_threads\",\"0\",\"--tree_learner\",\"serial\",\"--tweedie_variance_power\",\"1.5\",\"--use_dask\",\"False\",\"--verbosity\",\"1\"]\u001b[0m\n",
      "\u001b[34mSM_OUTPUT_INTERMEDIATE_DIR=/opt/ml/output/intermediate\u001b[0m\n",
      "\u001b[34mSM_CHANNEL_MODEL=/opt/ml/input/data/model\u001b[0m\n",
      "\u001b[34mSM_CHANNEL_TRAINING=/opt/ml/input/data/training\u001b[0m\n",
      "\u001b[34mSM_CHANNEL_VALIDATION=/opt/ml/input/data/validation\u001b[0m\n",
      "\u001b[34mSM_HP_BAGGING_FRACTION=0.53\u001b[0m\n",
      "\u001b[34mSM_HP_BAGGING_FREQ=5\u001b[0m\n",
      "\u001b[34mSM_HP_BOOSTING=gbdt\u001b[0m\n",
      "\u001b[34mSM_HP_EARLY_STOPPING_ROUNDS=30\u001b[0m\n",
      "\u001b[34mSM_HP_FEATURE_FRACTION=0.74\u001b[0m\n",
      "\u001b[34mSM_HP_FEATURE_FRACTION_BYNODE=1.0\u001b[0m\n",
      "\u001b[34mSM_HP_IS_UNBALANCE=False\u001b[0m\n",
      "\u001b[34mSM_HP_LAMBDA_L1=0.0\u001b[0m\n",
      "\u001b[34mSM_HP_LAMBDA_L2=0.0\u001b[0m\n",
      "\u001b[34mSM_HP_LEARNING_RATE=0.009\u001b[0m\n",
      "\u001b[34mSM_HP_MAX_BIN=255\u001b[0m\n",
      "\u001b[34mSM_HP_MAX_DELTA_STEP=0.0\u001b[0m\n",
      "\u001b[34mSM_HP_MAX_DEPTH=11\u001b[0m\n",
      "\u001b[34mSM_HP_METRIC=auto\u001b[0m\n",
      "\u001b[34mSM_HP_MIN_DATA_IN_LEAF=26\u001b[0m\n",
      "\u001b[34mSM_HP_MIN_GAIN_TO_SPLIT=0.0\u001b[0m\n",
      "\u001b[34mSM_HP_NUM_BOOST_ROUND=500\u001b[0m\n",
      "\u001b[34mSM_HP_NUM_LEAVES=67\u001b[0m\n",
      "\u001b[34mSM_HP_NUM_THREADS=0\u001b[0m\n",
      "\u001b[34mSM_HP_TREE_LEARNER=serial\u001b[0m\n",
      "\u001b[34mSM_HP_TWEEDIE_VARIANCE_POWER=1.5\u001b[0m\n",
      "\u001b[34mSM_HP_USE_DASK=False\u001b[0m\n",
      "\u001b[34mSM_HP_VERBOSITY=1\u001b[0m\n",
      "\u001b[34mPYTHONPATH=/opt/ml/code:/opt/conda/bin:/opt/conda/lib/python38.zip:/opt/conda/lib/python3.8:/opt/conda/lib/python3.8/lib-dynload:/opt/conda/lib/python3.8/site-packages\u001b[0m\n",
      "\u001b[34mInvoking script with the following command:\u001b[0m\n",
      "\u001b[34m/opt/conda/bin/python3.8 transfer_learning.py --bagging_fraction 0.53 --bagging_freq 5 --boosting gbdt --early_stopping_rounds 30 --feature_fraction 0.74 --feature_fraction_bynode 1.0 --is_unbalance False --lambda_l1 0.0 --lambda_l2 0.0 --learning_rate 0.009 --max_bin 255 --max_delta_step 0.0 --max_depth 11 --metric auto --min_data_in_leaf 26 --min_gain_to_split 0.0 --num_boost_round 500 --num_leaves 67 --num_threads 0 --tree_learner serial --tweedie_variance_power 1.5 --use_dask False --verbosity 1\u001b[0m\n",
      "\u001b[34mINFO:root:Loading data\u001b[0m\n",
      "\u001b[34mINFO:root:'ContentType' is not identified in either training or validation data channel. Default ContentType 'text/csv' is used to read the train and validation data.\u001b[0m\n",
      "\u001b[34mINFO:root:Found data in the validation channel. Reading the train and validation data from the training and validation channel, respectively.\u001b[0m\n",
      "\u001b[34mINFO:root:Found more than 1 file ending in '.csv' under '/opt/ml/input/data/training'. All of the files ending in '.csv' will be used as training or validation data.\u001b[0m\n",
      "\u001b[34mdata frame ['/opt/ml/input/data/training/train_yyyymmdd_2.csv.csv', '/opt/ml/input/data/training/train_yyyymmdd_6.csv.csv', '/opt/ml/input/data/training/train_yyyymmdd_4.csv.csv', '/opt/ml/input/data/training/train_yyyymmdd_7.csv.csv', '/opt/ml/input/data/training/train_yyyymmdd_3.csv.csv', '/opt/ml/input/data/training/train_yyyymmdd_5.csv.csv', '/opt/ml/input/data/training/train_yyyymmdd_1.csv.csv']???      0    1     2     3     4     5   ...    15    16    17    18    19    20\u001b[0m\n",
      "\u001b[34m0   493  925  1807  9088  2652  1433  ...  3128  4135  1875  5556  8834  6822\u001b[0m\n",
      "\u001b[34m1   492  933  3887  6055  1908   969  ...  2143  9803  8404  3049  4071    84\u001b[0m\n",
      "\u001b[34m2   275  592  6322  3459  8610   684  ...  1924  9003  6033  4153  4955  3831\u001b[0m\n",
      "\u001b[34m3   259  513  2140  7208  7681  3791  ...  9655  1749  9384  5754  2857  8329\u001b[0m\n",
      "\u001b[34m4   777  849  1654  1513  1327  8417  ...  1638   724  5963  4584  2778  3333\u001b[0m\n",
      "\u001b[34m..  ...  ...   ...   ...   ...   ...  ...   ...   ...   ...   ...   ...   ...\u001b[0m\n",
      "\u001b[34m95  991  469  7559  3717  8385  2388  ...  4891  2227  7000  4990  2185  2638\u001b[0m\n",
      "\u001b[34m96  385  591  8852  2795  2374  3427  ...  6355  9936  3388  4936  4368  5062\u001b[0m\n",
      "\u001b[34m97  221  985  7077   925  3004  8595  ...  4794  3165  1527  2316  8998  9583\u001b[0m\n",
      "\u001b[34m98  263  276  6528   527  4928  8611  ...  6295  2597  1893  1966  1870   445\u001b[0m\n",
      "\u001b[34m99  957  387  4352  2469  8187  2747  ...  2737  3825  5175  7998  3863  7542\u001b[0m\n",
      "\u001b[34m[100 rows x 21 columns]\u001b[0m\n",
      "\u001b[34mdata frame ['/opt/ml/input/data/validation/valid_yyyymmdd_8.csv.csv']???      0    1     2     3     4     5   ...    15    16    17    18    19    20\u001b[0m\n",
      "\u001b[34m0   568  516  4972  5598  1241  1795  ...   966   996  7772  5968  8134  2086\u001b[0m\n",
      "\u001b[34m1   974  196  1078  3842  6060  6412  ...  4009  4258  2578  9789  6239  5837\u001b[0m\n",
      "\u001b[34m2   855  940  2116  3368  5568    13  ...  3708  4461  5443   176  2781  9962\u001b[0m\n",
      "\u001b[34m3   263  488  8987  1430  7927  5198  ...  7997  3482  3032  7734  4564  3006\u001b[0m\n",
      "\u001b[34m4   308  234  1760  3412  9348  7957  ...  4627  9400  4928  4021  8800  7708\u001b[0m\n",
      "\u001b[34m..  ...  ...   ...   ...   ...   ...  ...   ...   ...   ...   ...   ...   ...\u001b[0m\n",
      "\u001b[34m95  318  769   988  7622  6862   323  ...  4777  1439  4271  8723  5261  4197\u001b[0m\n",
      "\u001b[34m96  347  997  5237  8010  4129  9058  ...  3098  4140  1922  3561  9584  2709\u001b[0m\n",
      "\u001b[34m97  433  491  8934  3372  2369  4690  ...  2007  7187   397  2406  9846  4175\u001b[0m\n",
      "\u001b[34m98  343  831  1528   169  5374  7130  ...  2355  2189   986  9331   104   993\u001b[0m\n",
      "\u001b[34m99  760  551  3756  5934  9316  7804  ...  9012  7660  4991  3193  1697  1112\u001b[0m\n",
      "\u001b[34m[100 rows x 21 columns]\u001b[0m\n",
      "\u001b[34mINFO:root:'_input_model_extracted/__models_info__.json' file could not be found.\u001b[0m\n",
      "\u001b[34mINFO:root:Beginning training\u001b[0m\n",
      "\u001b[34m/opt/conda/lib/python3.8/site-packages/lightgbm/engine.py:181: UserWarning: 'early_stopping_rounds' argument is deprecated and will be removed in a future release of LightGBM. Pass 'early_stopping()' callback via 'callbacks' argument instead.\n",
      "  _log_warning(\"'early_stopping_rounds' argument is deprecated and will be removed in a future release of LightGBM. \"\u001b[0m\n",
      "\u001b[34m[LightGBM] [Warning] boosting is set=gbdt, boosting_type=gbdt will be ignored. Current value: boosting=gbdt\u001b[0m\n",
      "\u001b[34m[LightGBM] [Warning] boosting is set=gbdt, boosting_type=gbdt will be ignored. Current value: boosting=gbdt\u001b[0m\n",
      "\u001b[34m[LightGBM] [Warning] Auto-choosing col-wise multi-threading, the overhead of testing was 0.000385 seconds.\u001b[0m\n",
      "\u001b[34mYou can set `force_col_wise=true` to remove the overhead.\u001b[0m\n",
      "\u001b[34m[LightGBM] [Info] Total Bins 4677\u001b[0m\n",
      "\u001b[34m[LightGBM] [Info] Number of data points in the train set: 700, number of used features: 20\u001b[0m\n",
      "\u001b[34m[LightGBM] [Warning] boosting is set=gbdt, boosting_type=gbdt will be ignored. Current value: boosting=gbdt\u001b[0m\n",
      "\u001b[34m[LightGBM] [Info] Start training from score 540.435714\u001b[0m\n",
      "\u001b[34m[LightGBM] [Warning] No further splits with positive gain, best gain: -inf\u001b[0m\n",
      "\u001b[34m[1]#011train's rmse: 257.435#011val's rmse: 295.027\u001b[0m\n",
      "\u001b[34mTraining until validation scores don't improve for 30 rounds\u001b[0m\n",
      "\u001b[34m[LightGBM] [Warning] No further splits with positive gain, best gain: -inf\u001b[0m\n",
      "\u001b[34m[2]#011train's rmse: 257.231#011val's rmse: 294.98\u001b[0m\n",
      "\u001b[34m[LightGBM] [Warning] No further splits with positive gain, best gain: -inf\u001b[0m\n",
      "\u001b[34m[3]#011train's rmse: 257.026#011val's rmse: 294.966\u001b[0m\n",
      "\u001b[34m[LightGBM] [Warning] No further splits with positive gain, best gain: -inf\u001b[0m\n",
      "\u001b[34m[4]#011train's rmse: 256.845#011val's rmse: 294.94\u001b[0m\n",
      "\u001b[34m[LightGBM] [Warning] No further splits with positive gain, best gain: -inf\u001b[0m\n",
      "\u001b[34m[5]#011train's rmse: 256.659#011val's rmse: 294.945\u001b[0m\n",
      "\u001b[34m[LightGBM] [Warning] No further splits with positive gain, best gain: -inf\u001b[0m\n",
      "\u001b[34m[6]#011train's rmse: 256.417#011val's rmse: 295.035\u001b[0m\n",
      "\u001b[34m[LightGBM] [Warning] No further splits with positive gain, best gain: -inf\u001b[0m\n",
      "\u001b[34m[7]#011train's rmse: 256.135#011val's rmse: 295.015\u001b[0m\n",
      "\u001b[34m[LightGBM] [Warning] No further splits with positive gain, best gain: -inf\u001b[0m\n",
      "\u001b[34m[8]#011train's rmse: 255.865#011val's rmse: 294.98\u001b[0m\n",
      "\u001b[34m[LightGBM] [Warning] No further splits with positive gain, best gain: -inf\u001b[0m\n",
      "\u001b[34m[9]#011train's rmse: 255.615#011val's rmse: 294.901\u001b[0m\n",
      "\u001b[34m[LightGBM] [Warning] No further splits with positive gain, best gain: -inf\u001b[0m\n",
      "\u001b[34m[10]#011train's rmse: 255.405#011val's rmse: 294.892\u001b[0m\n",
      "\u001b[34m[LightGBM] [Warning] No further splits with positive gain, best gain: -inf\u001b[0m\n",
      "\u001b[34m[11]#011train's rmse: 255.142#011val's rmse: 294.81\u001b[0m\n",
      "\u001b[34m[LightGBM] [Warning] No further splits with positive gain, best gain: -inf\u001b[0m\n",
      "\u001b[34m[12]#011train's rmse: 254.805#011val's rmse: 294.724\u001b[0m\n",
      "\u001b[34m[LightGBM] [Warning] No further splits with positive gain, best gain: -inf\u001b[0m\n",
      "\u001b[34m[13]#011train's rmse: 254.625#011val's rmse: 294.877\u001b[0m\n",
      "\u001b[34m[LightGBM] [Warning] No further splits with positive gain, best gain: -inf\u001b[0m\n",
      "\u001b[34m[14]#011train's rmse: 254.335#011val's rmse: 294.94\u001b[0m\n",
      "\u001b[34m[LightGBM] [Warning] No further splits with positive gain, best gain: -inf\u001b[0m\n",
      "\u001b[34m[15]#011train's rmse: 254.067#011val's rmse: 294.937\u001b[0m\n",
      "\u001b[34m[LightGBM] [Warning] No further splits with positive gain, best gain: -inf\u001b[0m\n",
      "\u001b[34m[16]#011train's rmse: 253.778#011val's rmse: 294.94\u001b[0m\n",
      "\u001b[34m[LightGBM] [Warning] No further splits with positive gain, best gain: -inf\u001b[0m\n",
      "\u001b[34m[17]#011train's rmse: 253.568#011val's rmse: 294.959\u001b[0m\n",
      "\u001b[34m[LightGBM] [Warning] No further splits with positive gain, best gain: -inf\u001b[0m\n",
      "\u001b[34m[18]#011train's rmse: 253.312#011val's rmse: 295.058\u001b[0m\n",
      "\u001b[34m[LightGBM] [Warning] No further splits with positive gain, best gain: -inf\u001b[0m\n",
      "\u001b[34m[19]#011train's rmse: 253.073#011val's rmse: 294.971\u001b[0m\n",
      "\u001b[34m[LightGBM] [Warning] No further splits with positive gain, best gain: -inf\u001b[0m\n",
      "\u001b[34m[20]#011train's rmse: 252.85#011val's rmse: 294.827\u001b[0m\n",
      "\u001b[34m[LightGBM] [Warning] No further splits with positive gain, best gain: -inf\u001b[0m\n",
      "\u001b[34m[21]#011train's rmse: 252.661#011val's rmse: 294.733\u001b[0m\n",
      "\u001b[34m[LightGBM] [Warning] No further splits with positive gain, best gain: -inf\u001b[0m\n",
      "\u001b[34m[22]#011train's rmse: 252.481#011val's rmse: 294.607\u001b[0m\n",
      "\u001b[34m[LightGBM] [Warning] No further splits with positive gain, best gain: -inf\u001b[0m\n",
      "\u001b[34m[23]#011train's rmse: 252.281#011val's rmse: 294.443\u001b[0m\n",
      "\u001b[34m[LightGBM] [Warning] No further splits with positive gain, best gain: -inf\u001b[0m\n",
      "\u001b[34m[24]#011train's rmse: 252.135#011val's rmse: 294.465\u001b[0m\n",
      "\u001b[34m[LightGBM] [Warning] No further splits with positive gain, best gain: -inf\u001b[0m\n",
      "\u001b[34m[25]#011train's rmse: 251.927#011val's rmse: 294.274\u001b[0m\n",
      "\u001b[34m[LightGBM] [Warning] No further splits with positive gain, best gain: -inf\u001b[0m\n",
      "\u001b[34m[26]#011train's rmse: 251.664#011val's rmse: 294.097\u001b[0m\n",
      "\u001b[34m[LightGBM] [Warning] No further splits with positive gain, best gain: -inf\u001b[0m\n",
      "\u001b[34m[27]#011train's rmse: 251.421#011val's rmse: 294.042\u001b[0m\n",
      "\u001b[34m[LightGBM] [Warning] No further splits with positive gain, best gain: -inf\u001b[0m\n",
      "\u001b[34m[28]#011train's rmse: 251.188#011val's rmse: 294.044\u001b[0m\n",
      "\u001b[34m[LightGBM] [Warning] No further splits with positive gain, best gain: -inf\u001b[0m\n",
      "\u001b[34m[29]#011train's rmse: 251.035#011val's rmse: 294.03\u001b[0m\n",
      "\u001b[34m[LightGBM] [Warning] No further splits with positive gain, best gain: -inf\u001b[0m\n",
      "\u001b[34m[30]#011train's rmse: 250.804#011val's rmse: 293.972\u001b[0m\n",
      "\u001b[34m[LightGBM] [Warning] No further splits with positive gain, best gain: -inf\u001b[0m\n",
      "\u001b[34m[31]#011train's rmse: 250.629#011val's rmse: 293.962\u001b[0m\n",
      "\u001b[34m[LightGBM] [Warning] No further splits with positive gain, best gain: -inf\u001b[0m\n",
      "\u001b[34m[32]#011train's rmse: 250.394#011val's rmse: 293.81\u001b[0m\n",
      "\u001b[34m[LightGBM] [Warning] No further splits with positive gain, best gain: -inf\u001b[0m\n",
      "\u001b[34m[33]#011train's rmse: 250.211#011val's rmse: 293.637\u001b[0m\n",
      "\u001b[34m[LightGBM] [Warning] No further splits with positive gain, best gain: -inf\u001b[0m\n",
      "\u001b[34m[34]#011train's rmse: 250.018#011val's rmse: 293.542\u001b[0m\n",
      "\u001b[34m[LightGBM] [Warning] No further splits with positive gain, best gain: -inf\u001b[0m\n",
      "\u001b[34m[35]#011train's rmse: 249.806#011val's rmse: 293.385\u001b[0m\n",
      "\u001b[34m[LightGBM] [Warning] No further splits with positive gain, best gain: -inf\u001b[0m\n",
      "\u001b[34m[36]#011train's rmse: 249.553#011val's rmse: 293.422\u001b[0m\n",
      "\u001b[34m[LightGBM] [Warning] No further splits with positive gain, best gain: -inf\u001b[0m\n",
      "\u001b[34m[37]#011train's rmse: 249.299#011val's rmse: 293.433\u001b[0m\n",
      "\u001b[34m[LightGBM] [Warning] No further splits with positive gain, best gain: -inf\u001b[0m\n",
      "\u001b[34m[38]#011train's rmse: 249.086#011val's rmse: 293.463\u001b[0m\n",
      "\u001b[34m[LightGBM] [Warning] No further splits with positive gain, best gain: -inf\u001b[0m\n",
      "\u001b[34m[39]#011train's rmse: 248.835#011val's rmse: 293.517\u001b[0m\n",
      "\u001b[34m[LightGBM] [Warning] No further splits with positive gain, best gain: -inf\u001b[0m\n",
      "\u001b[34m[40]#011train's rmse: 248.586#011val's rmse: 293.65\u001b[0m\n",
      "\u001b[34m[LightGBM] [Warning] No further splits with positive gain, best gain: -inf\u001b[0m\n",
      "\u001b[34m[41]#011train's rmse: 248.354#011val's rmse: 293.619\u001b[0m\n",
      "\u001b[34m[LightGBM] [Warning] No further splits with positive gain, best gain: -inf\u001b[0m\n",
      "\u001b[34m[42]#011train's rmse: 248.166#011val's rmse: 293.771\u001b[0m\n",
      "\u001b[34m[LightGBM] [Warning] No further splits with positive gain, best gain: -inf\u001b[0m\n",
      "\u001b[34m[43]#011train's rmse: 247.962#011val's rmse: 293.603\u001b[0m\n",
      "\u001b[34m[LightGBM] [Warning] No further splits with positive gain, best gain: -inf\u001b[0m\n",
      "\u001b[34m[44]#011train's rmse: 247.788#011val's rmse: 293.59\u001b[0m\n",
      "\u001b[34m[LightGBM] [Warning] No further splits with positive gain, best gain: -inf\u001b[0m\n",
      "\u001b[34m[45]#011train's rmse: 247.582#011val's rmse: 293.578\u001b[0m\n",
      "\u001b[34m[LightGBM] [Warning] No further splits with positive gain, best gain: -inf\u001b[0m\n",
      "\u001b[34m[46]#011train's rmse: 247.373#011val's rmse: 293.651\u001b[0m\n",
      "\u001b[34m[LightGBM] [Warning] No further splits with positive gain, best gain: -inf\u001b[0m\n",
      "\u001b[34m[47]#011train's rmse: 247.172#011val's rmse: 293.643\u001b[0m\n",
      "\u001b[34m[LightGBM] [Warning] No further splits with positive gain, best gain: -inf\u001b[0m\n",
      "\u001b[34m[48]#011train's rmse: 246.943#011val's rmse: 293.705\u001b[0m\n",
      "\u001b[34m[LightGBM] [Warning] No further splits with positive gain, best gain: -inf\u001b[0m\n",
      "\u001b[34m[49]#011train's rmse: 246.735#011val's rmse: 293.713\u001b[0m\n",
      "\u001b[34m[LightGBM] [Warning] No further splits with positive gain, best gain: -inf\u001b[0m\n",
      "\u001b[34m[50]#011train's rmse: 246.591#011val's rmse: 293.644\u001b[0m\n",
      "\u001b[34m[LightGBM] [Warning] No further splits with positive gain, best gain: -inf\u001b[0m\n",
      "\u001b[34m[51]#011train's rmse: 246.382#011val's rmse: 293.614\u001b[0m\n",
      "\u001b[34m[LightGBM] [Warning] No further splits with positive gain, best gain: -inf\u001b[0m\n",
      "\u001b[34m[52]#011train's rmse: 246.174#011val's rmse: 293.667\u001b[0m\n",
      "\u001b[34m[LightGBM] [Warning] No further splits with positive gain, best gain: -inf\u001b[0m\n",
      "\u001b[34m[53]#011train's rmse: 245.972#011val's rmse: 293.723\u001b[0m\n",
      "\u001b[34m[LightGBM] [Warning] No further splits with positive gain, best gain: -inf\u001b[0m\n",
      "\u001b[34m[54]#011train's rmse: 245.789#011val's rmse: 293.656\u001b[0m\n",
      "\u001b[34m[LightGBM] [Warning] No further splits with positive gain, best gain: -inf\u001b[0m\n",
      "\u001b[34m[55]#011train's rmse: 245.578#011val's rmse: 293.819\u001b[0m\n",
      "\u001b[34m[LightGBM] [Warning] No further splits with positive gain, best gain: -inf\u001b[0m\n",
      "\u001b[34m[56]#011train's rmse: 245.411#011val's rmse: 294.033\u001b[0m\n",
      "\u001b[34m[LightGBM] [Warning] No further splits with positive gain, best gain: -inf\u001b[0m\n",
      "\u001b[34m[57]#011train's rmse: 245.221#011val's rmse: 294.209\u001b[0m\n",
      "\u001b[34m[LightGBM] [Warning] No further splits with positive gain, best gain: -inf\u001b[0m\n",
      "\u001b[34m[58]#011train's rmse: 245.041#011val's rmse: 294.302\u001b[0m\n",
      "\u001b[34m[LightGBM] [Warning] No further splits with positive gain, best gain: -inf\u001b[0m\n",
      "\u001b[34m[59]#011train's rmse: 244.886#011val's rmse: 294.405\u001b[0m\n",
      "\u001b[34m[LightGBM] [Warning] No further splits with positive gain, best gain: -inf\u001b[0m\n",
      "\u001b[34m[60]#011train's rmse: 244.735#011val's rmse: 294.491\u001b[0m\n",
      "\u001b[34m[LightGBM] [Warning] No further splits with positive gain, best gain: -inf\u001b[0m\n",
      "\u001b[34m[61]#011train's rmse: 244.577#011val's rmse: 294.504\u001b[0m\n",
      "\u001b[34m[LightGBM] [Warning] No further splits with positive gain, best gain: -inf\u001b[0m\n",
      "\u001b[34m[62]#011train's rmse: 244.355#011val's rmse: 294.571\u001b[0m\n",
      "\u001b[34m[LightGBM] [Warning] No further splits with positive gain, best gain: -inf\u001b[0m\n",
      "\u001b[34m[63]#011train's rmse: 244.182#011val's rmse: 294.497\u001b[0m\n",
      "\u001b[34m[LightGBM] [Warning] No further splits with positive gain, best gain: -inf\u001b[0m\n",
      "\u001b[34m[64]#011train's rmse: 244.056#011val's rmse: 294.474\u001b[0m\n",
      "\u001b[34m[LightGBM] [Warning] No further splits with positive gain, best gain: -inf\u001b[0m\n",
      "\u001b[34m[65]#011train's rmse: 243.861#011val's rmse: 294.462\u001b[0m\n",
      "\u001b[34mEarly stopping, best iteration is:\u001b[0m\n",
      "\u001b[34m[35]#011train's rmse: 249.806#011val's rmse: 293.385\u001b[0m\n",
      "\u001b[34mINFO:root:Saving model...\u001b[0m\n",
      "\u001b[34mINFO:root:Info file not found at '_input_model_extracted/__models_info__.json'.\u001b[0m\n",
      "\u001b[34m2023-04-26 01:41:19,664 sagemaker-training-toolkit INFO     Reporting training SUCCESS\u001b[0m\n",
      "\n",
      "2023-04-26 01:41:37 Uploading - Uploading generated training model\n",
      "2023-04-26 01:41:37 Completed - Training job completed\n",
      "Training seconds: 81\n",
      "Billable seconds: 81\n"
     ]
    }
   ],
   "source": [
    "tabular_estimator.fit(\n",
    "    {\"training\" : training_dataset_s3_path,\n",
    "     \"validation\" : validation_dataset_s3_path},\n",
    "    logs=True, \n",
    "    job_name=training_job_name\n",
    ")"
   ]
  },
  {
   "cell_type": "markdown",
   "id": "26adeb32-6ced-4c90-bd1f-b7283a7a1712",
   "metadata": {},
   "source": [
    "## 2-5. モデル確認（ソリューションでは不要）"
   ]
  },
  {
   "cell_type": "code",
   "execution_count": 27,
   "id": "6bb17ab9-0a02-4c15-ae4b-806ef7c42db5",
   "metadata": {
    "tags": []
   },
   "outputs": [
    {
     "data": {
      "text/plain": [
       "'s3://sagemaker-us-east-1-805433377179/analytics_ml/output_sample/output_train/lightgbm-regression-model-training-2023-04-26-01-39-04-281/output/model.tar.gz'"
      ]
     },
     "execution_count": 27,
     "metadata": {},
     "output_type": "execute_result"
    }
   ],
   "source": [
    "tabular_estimator.model_data"
   ]
  },
  {
   "cell_type": "code",
   "execution_count": 28,
   "id": "cb033737-fa48-44ee-9d65-527ad55c09be",
   "metadata": {
    "tags": []
   },
   "outputs": [
    {
     "name": "stdout",
     "output_type": "stream",
     "text": [
      "download: s3://sagemaker-us-east-1-805433377179/analytics_ml/output_sample/output_train/lightgbm-regression-model-training-2023-04-26-01-39-04-281/output/model.tar.gz to ./model.tar.gz\n"
     ]
    }
   ],
   "source": [
    "!aws s3 cp $tabular_estimator.model_data ."
   ]
  },
  {
   "cell_type": "code",
   "execution_count": 29,
   "id": "7e3705d2-82c0-470d-8dea-c81d1c0472cd",
   "metadata": {
    "tags": []
   },
   "outputs": [
    {
     "name": "stdout",
     "output_type": "stream",
     "text": [
      "__models_info__.json\n",
      "model.pkl\n"
     ]
    }
   ],
   "source": [
    "!tar zxvf model.tar.gz"
   ]
  },
  {
   "cell_type": "code",
   "execution_count": 30,
   "id": "5d05b080-206d-4729-a31f-b2d8348c9f86",
   "metadata": {
    "tags": []
   },
   "outputs": [
    {
     "name": "stdout",
     "output_type": "stream",
     "text": [
      "{'is_trained_on_input_data': True}\n"
     ]
    }
   ],
   "source": [
    "import json\n",
    "\n",
    "# JSONデータが記述されたファイルを開く\n",
    "with open('__models_info__.json') as f:\n",
    "    # JSONデータをPythonの辞書オブジェクトに変換\n",
    "    data = json.load(f)\n",
    "\n",
    "# 変換されたPythonオブジェクトを表示\n",
    "print(data)"
   ]
  },
  {
   "cell_type": "markdown",
   "id": "cee89e0f-8ec0-4e81-82ab-9cce78a852eb",
   "metadata": {},
   "source": [
    "# 3.モデルレジストリに登録\n",
    "\n",
    "後で"
   ]
  },
  {
   "cell_type": "markdown",
   "id": "a032d35e-9e45-4822-8cb3-ef162792bcbd",
   "metadata": {},
   "source": [
    "# 4. バッチ推論\n",
    "\n",
    "https://github.com/aws/amazon-sagemaker-examples/blob/main/sagemaker_batch_transform/batch_transform_associate_predictions_with_input/Batch%20Transform%20-%20breast%20cancer%20prediction%20with%20high%20level%20SDK.ipynb\n",
    "\n",
    "これは、学習で使ったコンテナイメージをバッチ推論でも利用する場合にはOK.今回は推論時のLightGBMコンテナは異なるのでNG\n",
    "\n",
    "LightGBMは推論用コンテナ利用なので、\n",
    "Modelインスタンス作成 -> Transformerインスタンス作成 -> transform()実行。という流れ\n",
    "\n",
    "\n",
    "https://sagemaker.readthedocs.io/en/stable/api/inference/transformer.html#sagemaker.transformer.Transformer\n",
    "\n",
    "\n",
    "推論結果は、指定したS3に格納される。\n",
    "\n",
    "<入力ファイル名>.csv.out というファイル名"
   ]
  },
  {
   "cell_type": "markdown",
   "id": "87554605-aa9f-4ba6-8312-2eed5ecbf170",
   "metadata": {},
   "source": [
    "## 4-1. モデル作成\n",
    "\n",
    "https://sagemaker.readthedocs.io/en/stable/api/training/estimators.html#sagemaker.estimator.EstimatorBase.transformer\n",
    "\n",
    "これだと学習時と同じコンテナを使うことになるのでNG"
   ]
  },
  {
   "cell_type": "markdown",
   "id": "ea8b7539-0720-4013-8a27-e15011d94ce6",
   "metadata": {},
   "source": [
    "モデルには、推論に必要となる以下を定義する\n",
    "\n",
    "* modelデータの場所\n",
    "* 推論するコンテナイメージの場所"
   ]
  },
  {
   "cell_type": "code",
   "execution_count": 31,
   "id": "9afe98e3-494f-4d3b-89e3-b75d2c3d70bf",
   "metadata": {
    "tags": []
   },
   "outputs": [],
   "source": [
    "#sm_transformer = tabular_estimator.transformer(1, \"ml.m4.xlarge\")\n",
    "#print(sm_transformer)"
   ]
  },
  {
   "cell_type": "markdown",
   "id": "7bb8c572-6bc9-4b80-a382-f90ea0ea6a62",
   "metadata": {},
   "source": [
    "https://github.com/aws/amazon-sagemaker-examples/blob/main/introduction_to_amazon_algorithms/lightgbm_catboost_tabular/Amazon_Tabular_Regression_LightGBM_CatBoost.ipynb"
   ]
  },
  {
   "cell_type": "code",
   "execution_count": 33,
   "id": "9e801398-8dd1-4501-b851-ba80136eea12",
   "metadata": {
    "tags": []
   },
   "outputs": [
    {
     "name": "stdout",
     "output_type": "stream",
     "text": [
      "763104351884.dkr.ecr.us-east-1.amazonaws.com/pytorch-inference:1.9.0-cpu-py38\n"
     ]
    }
   ],
   "source": [
    "# Retrieve the inference docker container uri\n",
    "deploy_image_uri = image_uris.retrieve(\n",
    "    region=None,\n",
    "    framework=None,\n",
    "    image_scope=\"inference\",\n",
    "    model_id=train_model_id,\n",
    "    model_version=train_model_version,\n",
    "    instance_type=inference_instance_type,\n",
    ")\n",
    "print(deploy_image_uri)"
   ]
  },
  {
   "cell_type": "code",
   "execution_count": 34,
   "id": "ac9ac5e7-f3b5-4daa-a7fb-58539646b1b1",
   "metadata": {
    "tags": []
   },
   "outputs": [
    {
     "name": "stdout",
     "output_type": "stream",
     "text": [
      "s3://jumpstart-cache-prod-us-east-1/source-directory-tarballs/lightgbm/inference/regression/v1.2.0/sourcedir.tar.gz\n"
     ]
    }
   ],
   "source": [
    "# Retrieve the inference script uri\n",
    "deploy_source_uri = script_uris.retrieve(\n",
    "    model_id=train_model_id, model_version=train_model_version, script_scope=\"inference\"\n",
    ")\n",
    "print(deploy_source_uri)"
   ]
  },
  {
   "cell_type": "markdown",
   "id": "1ed93421-4ac1-4ecc-84dd-3d69dd282ecf",
   "metadata": {},
   "source": [
    "モデルを作成\n",
    "\n",
    "https://sagemaker.readthedocs.io/en/stable/api/inference/model.html#sagemaker.model.Model"
   ]
  },
  {
   "cell_type": "markdown",
   "id": "22a1647b-4e18-4828-aa18-aefe48ad9ba3",
   "metadata": {},
   "source": [
    "学習を実施していない場合は、model_dataにS3のURIを直接渡す。"
   ]
  },
  {
   "cell_type": "code",
   "execution_count": 43,
   "id": "ab585c27-d207-4417-aa3e-6a3cf25ba891",
   "metadata": {
    "tags": []
   },
   "outputs": [
    {
     "name": "stdout",
     "output_type": "stream",
     "text": [
      "<sagemaker.model.Model object at 0x7fecb62b2260>\n"
     ]
    }
   ],
   "source": [
    "sm_model = sagemaker.model.Model(deploy_image_uri, \n",
    "                                 model_data=tabular_estimator.model_data, # 学習している場合\n",
    "                                 #model_data=< S3 URI of model>,          # 学習していない場合\n",
    "                                 role=aws_role, \n",
    "                                 predictor_cls=None, \n",
    "                                 #env=None,\n",
    "                                 #name=None, \n",
    "                                 #vpc_config=None,\n",
    "                                 sagemaker_session=sess, \n",
    "                                 #enable_network_isolation=None, \n",
    "                                 #model_kms_key=None,\n",
    "                                 #image_config=None, \n",
    "                                 source_dir=deploy_source_uri, \n",
    "                                 #code_location='inference.py', \n",
    "                                 entry_point='inference.py',\n",
    "                                 #container_log_level=20, \n",
    "                                 #dependencies=None,\n",
    "                                 #git_config=None,\n",
    "                                )\n",
    "\n",
    "print(sm_model)"
   ]
  },
  {
   "cell_type": "code",
   "execution_count": 39,
   "id": "0ced67af-8b8b-4e22-bc83-a1183ab7b0de",
   "metadata": {
    "tags": []
   },
   "outputs": [
    {
     "name": "stderr",
     "output_type": "stream",
     "text": [
      "INFO:sagemaker:Creating model with name: sagemaker-jumpstart-2023-04-26-02-49-12-855\n"
     ]
    },
    {
     "name": "stdout",
     "output_type": "stream",
     "text": [
      "<sagemaker.transformer.Transformer object at 0x7feba6b02620>\n"
     ]
    }
   ],
   "source": [
    "inference_instance_type = \"ml.m5.large\"\n",
    "\n",
    "sm_transformer = sm_model.transformer(instance_count=1,\n",
    "                                      instance_type=inference_instance_type,\n",
    "                                      #strategy=None,\n",
    "                                      #assemble_with=None,\n",
    "                                      #output_path=None,\n",
    "                                      #output_kms_key=None,\n",
    "                                      #accept=None,\n",
    "                                      #env=None,\n",
    "                                      #max_concurrent_transforms=None,\n",
    "                                      #max_payload=None,\n",
    "                                      #tags=None,\n",
    "                                      #volume_kms_key=None\n",
    "                                     )\n",
    "print(sm_transformer)"
   ]
  },
  {
   "cell_type": "code",
   "execution_count": null,
   "id": "45f41e17-f1e4-4d00-b113-848f30ff2a0b",
   "metadata": {},
   "outputs": [],
   "source": []
  },
  {
   "cell_type": "code",
   "execution_count": null,
   "id": "ff0be3f7-def9-4d73-af6c-51fd906e6de9",
   "metadata": {},
   "outputs": [],
   "source": []
  },
  {
   "cell_type": "code",
   "execution_count": 40,
   "id": "4adefc67-377c-4c2c-a4d8-631478240764",
   "metadata": {
    "tags": []
   },
   "outputs": [
    {
     "name": "stdout",
     "output_type": "stream",
     "text": [
      "s3://sagemaker-us-east-1-805433377179/analytics_ml/input_sample/test\n"
     ]
    }
   ],
   "source": [
    "training_data_bucket = sess.default_bucket()\n",
    "training_data_prefix = \"analytics_ml/input_sample\"\n",
    "test_dataset_s3_path = f\"s3://{training_data_bucket}/{training_data_prefix}/test\"\n",
    "print(test_dataset_s3_path)"
   ]
  },
  {
   "cell_type": "markdown",
   "id": "4eb13530-2c0b-49b1-8fc6-d8461eaf409f",
   "metadata": {},
   "source": [
    "## 4-2. バッチ推論\n",
    "https://sagemaker.readthedocs.io/en/stable/api/inference/transformer.html#sagemaker.transformer.Transformer.transform\n",
    "\n",
    "<課題>\n",
    "バッチ推論時間がかかりすぎ？"
   ]
  },
  {
   "cell_type": "code",
   "execution_count": 41,
   "id": "960eeb11-3043-4db8-bb9a-9e2a91cb135b",
   "metadata": {
    "tags": []
   },
   "outputs": [
    {
     "name": "stderr",
     "output_type": "stream",
     "text": [
      "INFO:sagemaker:Creating transform job with name: sagemaker-jumpstart-2023-04-26-02-49-20-353\n"
     ]
    },
    {
     "name": "stdout",
     "output_type": "stream",
     "text": [
      "..............................\u001b[34mProcessing /opt/ml/model/code/lib/graphviz/graphviz-0.17-py3-none-any.whl\u001b[0m\n",
      "\u001b[34mProcessing /opt/ml/model/code/lib/joblib/joblib-1.2.0-py3-none-any.whl\u001b[0m\n",
      "\u001b[34mProcessing /opt/ml/model/code/lib/lightgbm/lightgbm-3.3.3-py3-none-manylinux1_x86_64.whl\u001b[0m\n",
      "\u001b[34mProcessing /opt/ml/model/code/lib/plotly/plotly-5.1.0-py2.py3-none-any.whl\u001b[0m\n",
      "\u001b[34mProcessing /opt/ml/model/code/lib/scikit_learn/scikit_learn-1.0.1-cp38-cp38-manylinux_2_12_x86_64.manylinux2010_x86_64.whl\u001b[0m\n",
      "\u001b[34mProcessing /opt/ml/model/code/lib/tenacity/tenacity-8.0.1-py3-none-any.whl\u001b[0m\n",
      "\u001b[34mProcessing /opt/ml/model/code/lib/threadpoolctl/threadpoolctl-2.2.0-py3-none-any.whl\u001b[0m\n",
      "\u001b[34mRequirement already satisfied: wheel in /opt/conda/lib/python3.8/site-packages (from lightgbm==3.3.3->-r /opt/ml/model/code/requirements.txt (line 3)) (0.37.0)\u001b[0m\n",
      "\u001b[34mRequirement already satisfied: numpy in /opt/conda/lib/python3.8/site-packages (from lightgbm==3.3.3->-r /opt/ml/model/code/requirements.txt (line 3)) (1.20.3)\u001b[0m\n",
      "\u001b[34mRequirement already satisfied: scipy in /opt/conda/lib/python3.8/site-packages (from lightgbm==3.3.3->-r /opt/ml/model/code/requirements.txt (line 3)) (1.7.1)\u001b[0m\n",
      "\u001b[34mRequirement already satisfied: six in /opt/conda/lib/python3.8/site-packages (from plotly==5.1.0->-r /opt/ml/model/code/requirements.txt (line 4)) (1.16.0)\u001b[0m\n",
      "\u001b[34mthreadpoolctl is already installed with the same version as the provided wheel. Use --force-reinstall to force an installation of the wheel.\u001b[0m\n",
      "\u001b[34mInstalling collected packages: joblib, tenacity, scikit-learn, plotly, lightgbm, graphviz\n",
      "  Attempting uninstall: joblib\n",
      "    Found existing installation: joblib 1.0.1\n",
      "    Uninstalling joblib-1.0.1:\n",
      "      Successfully uninstalled joblib-1.0.1\n",
      "  Attempting uninstall: scikit-learn\n",
      "    Found existing installation: scikit-learn 0.24.2\u001b[0m\n",
      "\u001b[34m    Uninstalling scikit-learn-0.24.2:\n",
      "      Successfully uninstalled scikit-learn-0.24.2\u001b[0m\n",
      "\u001b[34mSuccessfully installed graphviz-0.17 joblib-1.2.0 lightgbm-3.3.3 plotly-5.1.0 scikit-learn-1.0.1 tenacity-8.0.1\u001b[0m\n",
      "\u001b[34mWARNING: Running pip as the 'root' user can result in broken permissions and conflicting behaviour with the system package manager. It is recommended to use a virtual environment instead: https://pip.pypa.io/warnings/venv\u001b[0m\n",
      "\u001b[34m2023-04-26 02:54:31,546 [INFO ] main org.pytorch.serve.servingsdk.impl.PluginsManager - Initializing plugins manager...\u001b[0m\n",
      "\u001b[34m2023-04-26 02:54:31,770 [INFO ] main org.pytorch.serve.ModelServer - \u001b[0m\n",
      "\u001b[34mTorchserve version: 0.4.2\u001b[0m\n",
      "\u001b[34mTS Home: /opt/conda/lib/python3.8/site-packages\u001b[0m\n",
      "\u001b[34mCurrent directory: /\u001b[0m\n",
      "\u001b[34mTemp directory: /home/model-server/tmp\u001b[0m\n",
      "\u001b[34mNumber of GPUs: 0\u001b[0m\n",
      "\u001b[34mNumber of CPUs: 2\u001b[0m\n",
      "\u001b[34mMax heap size: 978 M\u001b[0m\n",
      "\u001b[34mPython executable: /opt/conda/bin/python3.8\u001b[0m\n",
      "\u001b[34mConfig file: /etc/sagemaker-ts.properties\u001b[0m\n",
      "\u001b[34mInference address: http://0.0.0.0:8080\u001b[0m\n",
      "\u001b[34mManagement address: http://0.0.0.0:8080\u001b[0m\n",
      "\u001b[34mMetrics address: http://127.0.0.1:8082\u001b[0m\n",
      "\u001b[34mModel Store: /.sagemaker/ts/models\u001b[0m\n",
      "\u001b[34mInitial Models: model.mar\u001b[0m\n",
      "\u001b[34mLog dir: /logs\u001b[0m\n",
      "\u001b[34mMetrics dir: /logs\u001b[0m\n",
      "\u001b[34mNetty threads: 0\u001b[0m\n",
      "\u001b[34mNetty client threads: 0\u001b[0m\n",
      "\u001b[34mDefault workers per model: 2\u001b[0m\n",
      "\u001b[34mBlacklist Regex: N/A\u001b[0m\n",
      "\u001b[34mMaximum Response Size: 6553500\u001b[0m\n",
      "\u001b[34mMaximum Request Size: 6553500\u001b[0m\n",
      "\u001b[34mPrefer direct buffer: false\u001b[0m\n",
      "\u001b[34mAllowed Urls: [file://.*|http(s)?://.*]\u001b[0m\n",
      "\u001b[34mCustom python dependency for model allowed: false\u001b[0m\n",
      "\u001b[34mMetrics report format: prometheus\u001b[0m\n",
      "\u001b[34mEnable metrics API: true\u001b[0m\n",
      "\u001b[34mWorkflow Store: /.sagemaker/ts/models\u001b[0m\n",
      "\u001b[34mModel config: N/A\u001b[0m\n",
      "\u001b[34m2023-04-26 02:54:31,782 [INFO ] main org.pytorch.serve.servingsdk.impl.PluginsManager -  Loading snapshot serializer plugin...\u001b[0m\n",
      "\u001b[34m2023-04-26 02:54:31,830 [INFO ] main org.pytorch.serve.ModelServer - Loading initial models: model.mar\u001b[0m\n",
      "\u001b[34m2023-04-26 02:54:32,771 [INFO ] main org.pytorch.serve.wlm.ModelManager - Model model loaded.\u001b[0m\n",
      "\u001b[34m2023-04-26 02:54:32,799 [INFO ] main org.pytorch.serve.ModelServer - Initialize Inference server with: EpollServerSocketChannel.\u001b[0m\n",
      "\u001b[34m2023-04-26 02:54:33,051 [INFO ] main org.pytorch.serve.ModelServer - Inference API bind to: http://0.0.0.0:8080\u001b[0m\n",
      "\u001b[34m2023-04-26 02:54:33,052 [INFO ] main org.pytorch.serve.ModelServer - Initialize Metrics server with: EpollServerSocketChannel.\u001b[0m\n",
      "\u001b[34m2023-04-26 02:54:33,072 [INFO ] main org.pytorch.serve.ModelServer - Metrics API bind to: http://127.0.0.1:8082\u001b[0m\n",
      "\u001b[34m2023-04-26 02:54:33,474 [INFO ] pool-1-thread-3 ACCESS_LOG - /169.254.255.130:41794 \"GET /ping HTTP/1.1\" 200 82\u001b[0m\n",
      "\u001b[34m2023-04-26 02:54:33,491 [INFO ] pool-1-thread-3 TS_METRICS - Requests2XX.Count:1|#Level:Host|#hostname:df4b6e171657,timestamp:null\u001b[0m\n",
      "\u001b[34mModel server started.\u001b[0m\n",
      "\u001b[34m2023-04-26 02:54:33,794 [WARN ] pool-2-thread-1 org.pytorch.serve.metrics.MetricCollector - worker pid is not available yet.\u001b[0m\n",
      "\u001b[34m2023-04-26 02:54:33,869 [INFO ] pool-2-thread-1 TS_METRICS - CPUUtilization.Percent:0.0|#Level:Host|#hostname:df4b6e171657,timestamp:1682477673\u001b[0m\n",
      "\u001b[34m2023-04-26 02:54:33,870 [INFO ] pool-2-thread-1 TS_METRICS - DiskAvailable.Gigabytes:46.924068450927734|#Level:Host|#hostname:df4b6e171657,timestamp:1682477673\u001b[0m\n",
      "\u001b[34m2023-04-26 02:54:33,871 [INFO ] pool-2-thread-1 TS_METRICS - DiskUsage.Gigabytes:8.941062927246094|#Level:Host|#hostname:df4b6e171657,timestamp:1682477673\u001b[0m\n",
      "\u001b[34m2023-04-26 02:54:33,874 [INFO ] pool-2-thread-1 TS_METRICS - DiskUtilization.Percent:16.0|#Level:Host|#hostname:df4b6e171657,timestamp:1682477673\u001b[0m\n",
      "\u001b[34m2023-04-26 02:54:33,877 [INFO ] pool-2-thread-1 TS_METRICS - MemoryAvailable.Megabytes:6438.53125|#Level:Host|#hostname:df4b6e171657,timestamp:1682477673\u001b[0m\n",
      "\u001b[34m2023-04-26 02:54:33,879 [INFO ] pool-2-thread-1 TS_METRICS - MemoryUsed.Megabytes:1014.92578125|#Level:Host|#hostname:df4b6e171657,timestamp:1682477673\u001b[0m\n",
      "\u001b[34m2023-04-26 02:54:33,879 [INFO ] pool-2-thread-1 TS_METRICS - MemoryUtilization.Percent:16.9|#Level:Host|#hostname:df4b6e171657,timestamp:1682477673\u001b[0m\n",
      "\u001b[34m2023-04-26 02:54:33,953 [INFO ] W-9000-model_1-stdout MODEL_LOG - Listening on port: /home/model-server/tmp/.ts.sock.9000\u001b[0m\n",
      "\u001b[34m2023-04-26 02:54:33,953 [INFO ] W-9000-model_1-stdout MODEL_LOG - [PID]42\u001b[0m\n",
      "\u001b[34m2023-04-26 02:54:33,954 [INFO ] W-9000-model_1-stdout MODEL_LOG - Torch worker started.\u001b[0m\n",
      "\u001b[34m2023-04-26 02:54:33,956 [INFO ] W-9000-model_1-stdout MODEL_LOG - Python runtime: 3.8.10\u001b[0m\n",
      "\u001b[34m2023-04-26 02:54:33,958 [INFO ] W-9000-model_1 org.pytorch.serve.wlm.WorkerThread - Connecting to: /home/model-server/tmp/.ts.sock.9000\u001b[0m\n",
      "\u001b[34m2023-04-26 02:54:34,002 [INFO ] epollEventLoopGroup-3-2 ACCESS_LOG - /169.254.255.130:41800 \"GET /execution-parameters HTTP/1.1\" 404 1\u001b[0m\n",
      "\u001b[34m2023-04-26 02:54:34,004 [INFO ] epollEventLoopGroup-3-2 TS_METRICS - Requests4XX.Count:1|#Level:Host|#hostname:df4b6e171657,timestamp:null\u001b[0m\n",
      "\u001b[34m2023-04-26 02:54:34,005 [INFO ] W-9000-model_1-stdout MODEL_LOG - Connection accepted: /home/model-server/tmp/.ts.sock.9000.\u001b[0m\n",
      "\u001b[34m2023-04-26 02:54:34,070 [INFO ] W-9000-model_1-stdout MODEL_LOG - model_name: model, batchSize: 1\u001b[0m\n",
      "\u001b[34m2023-04-26 02:54:34,171 [INFO ] W-9001-model_1-stdout MODEL_LOG - Listening on port: /home/model-server/tmp/.ts.sock.9001\u001b[0m\n",
      "\u001b[34m2023-04-26 02:54:34,173 [INFO ] W-9001-model_1-stdout MODEL_LOG - [PID]43\u001b[0m\n",
      "\u001b[34m2023-04-26 02:54:34,175 [INFO ] W-9001-model_1-stdout MODEL_LOG - Torch worker started.\u001b[0m\n",
      "\u001b[34m2023-04-26 02:54:34,175 [INFO ] W-9001-model_1 org.pytorch.serve.wlm.WorkerThread - Connecting to: /home/model-server/tmp/.ts.sock.9001\u001b[0m\n",
      "\u001b[34m2023-04-26 02:54:34,180 [INFO ] W-9001-model_1-stdout MODEL_LOG - Python runtime: 3.8.10\u001b[0m\n",
      "\u001b[34m2023-04-26 02:54:34,185 [INFO ] W-9001-model_1-stdout MODEL_LOG - Connection accepted: /home/model-server/tmp/.ts.sock.9001.\u001b[0m\n",
      "\u001b[34m2023-04-26 02:54:34,311 [INFO ] W-9001-model_1-stdout MODEL_LOG - model_name: model, batchSize: 1\u001b[0m\n",
      "\u001b[34m2023-04-26 02:54:34,441 [INFO ] W-9000-model_1-stdout MODEL_LOG - NumExpr defaulting to 2 threads.\u001b[0m\n",
      "\u001b[34m2023-04-26 02:54:34,602 [INFO ] W-9001-model_1-stdout MODEL_LOG - NumExpr defaulting to 2 threads.\u001b[0m\n",
      "\u001b[34m2023-04-26 02:54:35,324 [INFO ] W-9001-model_1 org.pytorch.serve.wlm.WorkerThread - Backend response time: 998\u001b[0m\n",
      "\u001b[34m2023-04-26 02:54:35,324 [INFO ] W-9001-model_1 TS_METRICS - W-9001-model_1.ms:2538|#Level:Host|#hostname:df4b6e171657,timestamp:1682477675\u001b[0m\n",
      "\u001b[34m2023-04-26 02:54:35,324 [INFO ] W-9001-model_1 TS_METRICS - WorkerThreadTime.ms:138|#Level:Host|#hostname:df4b6e171657,timestamp:null\u001b[0m\n",
      "\u001b[34m2023-04-26 02:54:35,361 [INFO ] W-9000-model_1 org.pytorch.serve.wlm.WorkerThread - Backend response time: 1294\u001b[0m\n",
      "\u001b[34m2023-04-26 02:54:35,361 [INFO ] W-9000-model_1 TS_METRICS - W-9000-model_1.ms:2579|#Level:Host|#hostname:df4b6e171657,timestamp:1682477675\u001b[0m\n",
      "\u001b[34m2023-04-26 02:54:35,362 [INFO ] W-9000-model_1 TS_METRICS - WorkerThreadTime.ms:57|#Level:Host|#hostname:df4b6e171657,timestamp:null\u001b[0m\n",
      "\u001b[34m2023-04-26 02:54:35,439 [INFO ] W-9001-model_1 org.pytorch.serve.wlm.WorkerThread - Backend response time: 5\u001b[0m\n",
      "\u001b[34m2023-04-26 02:54:35,440 [INFO ] W-9001-model_1 ACCESS_LOG - /169.254.255.130:41812 \"POST /invocations HTTP/1.1\" 200 29\u001b[0m\n",
      "\u001b[34m2023-04-26 02:54:35,440 [INFO ] W-9001-model_1 TS_METRICS - Requests2XX.Count:1|#Level:Host|#hostname:df4b6e171657,timestamp:null\u001b[0m\n",
      "\u001b[34m2023-04-26 02:54:35,440 [INFO ] W-9001-model_1 TS_METRICS - QueueTime.ms:3|#Level:Host|#hostname:df4b6e171657,timestamp:null\u001b[0m\n",
      "\u001b[34m2023-04-26 02:54:35,440 [INFO ] W-9001-model_1 TS_METRICS - WorkerThreadTime.ms:10|#Level:Host|#hostname:df4b6e171657,timestamp:null\u001b[0m\n",
      "\u001b[34m2023-04-26 02:54:35,441 [INFO ] W-9001-model_1-stdout MODEL_METRICS - PredictionTime.Milliseconds:7.72|#ModelName:model,Level:Model|#hostname:df4b6e171657,requestID:1bf9b4fa-0392-4801-a1f9-4c4c963f8aa0,timestamp:1682477675\u001b[0m\n",
      "\u001b[32m2023-04-26T02:54:35.328:[sagemaker logs]: MaxConcurrentTransforms=1, MaxPayloadInMB=6, BatchStrategy=MULTI_RECORD\u001b[0m\n",
      "\n",
      "\u001b[34mProcessing /opt/ml/model/code/lib/graphviz/graphviz-0.17-py3-none-any.whl\u001b[0m\n",
      "\u001b[34mProcessing /opt/ml/model/code/lib/joblib/joblib-1.2.0-py3-none-any.whl\u001b[0m\n",
      "\u001b[34mProcessing /opt/ml/model/code/lib/lightgbm/lightgbm-3.3.3-py3-none-manylinux1_x86_64.whl\u001b[0m\n",
      "\u001b[34mProcessing /opt/ml/model/code/lib/plotly/plotly-5.1.0-py2.py3-none-any.whl\u001b[0m\n",
      "\u001b[34mProcessing /opt/ml/model/code/lib/scikit_learn/scikit_learn-1.0.1-cp38-cp38-manylinux_2_12_x86_64.manylinux2010_x86_64.whl\u001b[0m\n",
      "\u001b[34mProcessing /opt/ml/model/code/lib/tenacity/tenacity-8.0.1-py3-none-any.whl\u001b[0m\n",
      "\u001b[34mProcessing /opt/ml/model/code/lib/threadpoolctl/threadpoolctl-2.2.0-py3-none-any.whl\u001b[0m\n",
      "\u001b[34mRequirement already satisfied: wheel in /opt/conda/lib/python3.8/site-packages (from lightgbm==3.3.3->-r /opt/ml/model/code/requirements.txt (line 3)) (0.37.0)\u001b[0m\n",
      "\u001b[35mProcessing /opt/ml/model/code/lib/graphviz/graphviz-0.17-py3-none-any.whl\u001b[0m\n",
      "\u001b[35mProcessing /opt/ml/model/code/lib/joblib/joblib-1.2.0-py3-none-any.whl\u001b[0m\n",
      "\u001b[35mProcessing /opt/ml/model/code/lib/lightgbm/lightgbm-3.3.3-py3-none-manylinux1_x86_64.whl\u001b[0m\n",
      "\u001b[35mProcessing /opt/ml/model/code/lib/plotly/plotly-5.1.0-py2.py3-none-any.whl\u001b[0m\n",
      "\u001b[35mProcessing /opt/ml/model/code/lib/scikit_learn/scikit_learn-1.0.1-cp38-cp38-manylinux_2_12_x86_64.manylinux2010_x86_64.whl\u001b[0m\n",
      "\u001b[35mProcessing /opt/ml/model/code/lib/tenacity/tenacity-8.0.1-py3-none-any.whl\u001b[0m\n",
      "\u001b[35mProcessing /opt/ml/model/code/lib/threadpoolctl/threadpoolctl-2.2.0-py3-none-any.whl\u001b[0m\n",
      "\u001b[35mRequirement already satisfied: wheel in /opt/conda/lib/python3.8/site-packages (from lightgbm==3.3.3->-r /opt/ml/model/code/requirements.txt (line 3)) (0.37.0)\u001b[0m\n",
      "\u001b[34mRequirement already satisfied: numpy in /opt/conda/lib/python3.8/site-packages (from lightgbm==3.3.3->-r /opt/ml/model/code/requirements.txt (line 3)) (1.20.3)\u001b[0m\n",
      "\u001b[34mRequirement already satisfied: scipy in /opt/conda/lib/python3.8/site-packages (from lightgbm==3.3.3->-r /opt/ml/model/code/requirements.txt (line 3)) (1.7.1)\u001b[0m\n",
      "\u001b[34mRequirement already satisfied: six in /opt/conda/lib/python3.8/site-packages (from plotly==5.1.0->-r /opt/ml/model/code/requirements.txt (line 4)) (1.16.0)\u001b[0m\n",
      "\u001b[34mthreadpoolctl is already installed with the same version as the provided wheel. Use --force-reinstall to force an installation of the wheel.\u001b[0m\n",
      "\u001b[34mInstalling collected packages: joblib, tenacity, scikit-learn, plotly, lightgbm, graphviz\n",
      "  Attempting uninstall: joblib\n",
      "    Found existing installation: joblib 1.0.1\n",
      "    Uninstalling joblib-1.0.1:\n",
      "      Successfully uninstalled joblib-1.0.1\n",
      "  Attempting uninstall: scikit-learn\n",
      "    Found existing installation: scikit-learn 0.24.2\u001b[0m\n",
      "\u001b[35mRequirement already satisfied: numpy in /opt/conda/lib/python3.8/site-packages (from lightgbm==3.3.3->-r /opt/ml/model/code/requirements.txt (line 3)) (1.20.3)\u001b[0m\n",
      "\u001b[35mRequirement already satisfied: scipy in /opt/conda/lib/python3.8/site-packages (from lightgbm==3.3.3->-r /opt/ml/model/code/requirements.txt (line 3)) (1.7.1)\u001b[0m\n",
      "\u001b[35mRequirement already satisfied: six in /opt/conda/lib/python3.8/site-packages (from plotly==5.1.0->-r /opt/ml/model/code/requirements.txt (line 4)) (1.16.0)\u001b[0m\n",
      "\u001b[35mthreadpoolctl is already installed with the same version as the provided wheel. Use --force-reinstall to force an installation of the wheel.\u001b[0m\n",
      "\u001b[35mInstalling collected packages: joblib, tenacity, scikit-learn, plotly, lightgbm, graphviz\n",
      "  Attempting uninstall: joblib\n",
      "    Found existing installation: joblib 1.0.1\n",
      "    Uninstalling joblib-1.0.1:\n",
      "      Successfully uninstalled joblib-1.0.1\n",
      "  Attempting uninstall: scikit-learn\n",
      "    Found existing installation: scikit-learn 0.24.2\u001b[0m\n",
      "\u001b[34m    Uninstalling scikit-learn-0.24.2:\n",
      "      Successfully uninstalled scikit-learn-0.24.2\u001b[0m\n",
      "\u001b[35m    Uninstalling scikit-learn-0.24.2:\n",
      "      Successfully uninstalled scikit-learn-0.24.2\u001b[0m\n",
      "\u001b[34mSuccessfully installed graphviz-0.17 joblib-1.2.0 lightgbm-3.3.3 plotly-5.1.0 scikit-learn-1.0.1 tenacity-8.0.1\u001b[0m\n",
      "\u001b[34mWARNING: Running pip as the 'root' user can result in broken permissions and conflicting behaviour with the system package manager. It is recommended to use a virtual environment instead: https://pip.pypa.io/warnings/venv\u001b[0m\n",
      "\u001b[35mSuccessfully installed graphviz-0.17 joblib-1.2.0 lightgbm-3.3.3 plotly-5.1.0 scikit-learn-1.0.1 tenacity-8.0.1\u001b[0m\n",
      "\u001b[35mWARNING: Running pip as the 'root' user can result in broken permissions and conflicting behaviour with the system package manager. It is recommended to use a virtual environment instead: https://pip.pypa.io/warnings/venv\u001b[0m\n",
      "\u001b[34m2023-04-26 02:54:31,546 [INFO ] main org.pytorch.serve.servingsdk.impl.PluginsManager - Initializing plugins manager...\u001b[0m\n",
      "\u001b[35m2023-04-26 02:54:31,546 [INFO ] main org.pytorch.serve.servingsdk.impl.PluginsManager - Initializing plugins manager...\u001b[0m\n",
      "\u001b[34m2023-04-26 02:54:31,770 [INFO ] main org.pytorch.serve.ModelServer - \u001b[0m\n",
      "\u001b[34mTorchserve version: 0.4.2\u001b[0m\n",
      "\u001b[34mTS Home: /opt/conda/lib/python3.8/site-packages\u001b[0m\n",
      "\u001b[34mCurrent directory: /\u001b[0m\n",
      "\u001b[34mTemp directory: /home/model-server/tmp\u001b[0m\n",
      "\u001b[34mNumber of GPUs: 0\u001b[0m\n",
      "\u001b[34mNumber of CPUs: 2\u001b[0m\n",
      "\u001b[34mMax heap size: 978 M\u001b[0m\n",
      "\u001b[34mPython executable: /opt/conda/bin/python3.8\u001b[0m\n",
      "\u001b[34mConfig file: /etc/sagemaker-ts.properties\u001b[0m\n",
      "\u001b[34mInference address: http://0.0.0.0:8080\u001b[0m\n",
      "\u001b[34mManagement address: http://0.0.0.0:8080\u001b[0m\n",
      "\u001b[34mMetrics address: http://127.0.0.1:8082\u001b[0m\n",
      "\u001b[34mModel Store: /.sagemaker/ts/models\u001b[0m\n",
      "\u001b[34mInitial Models: model.mar\u001b[0m\n",
      "\u001b[34mLog dir: /logs\u001b[0m\n",
      "\u001b[34mMetrics dir: /logs\u001b[0m\n",
      "\u001b[34mNetty threads: 0\u001b[0m\n",
      "\u001b[34mNetty client threads: 0\u001b[0m\n",
      "\u001b[34mDefault workers per model: 2\u001b[0m\n",
      "\u001b[34mBlacklist Regex: N/A\u001b[0m\n",
      "\u001b[34mMaximum Response Size: 6553500\u001b[0m\n",
      "\u001b[34mMaximum Request Size: 6553500\u001b[0m\n",
      "\u001b[34mPrefer direct buffer: false\u001b[0m\n",
      "\u001b[34mAllowed Urls: [file://.*|http(s)?://.*]\u001b[0m\n",
      "\u001b[34mCustom python dependency for model allowed: false\u001b[0m\n",
      "\u001b[34mMetrics report format: prometheus\u001b[0m\n",
      "\u001b[35m2023-04-26 02:54:31,770 [INFO ] main org.pytorch.serve.ModelServer - \u001b[0m\n",
      "\u001b[35mTorchserve version: 0.4.2\u001b[0m\n",
      "\u001b[35mTS Home: /opt/conda/lib/python3.8/site-packages\u001b[0m\n",
      "\u001b[35mCurrent directory: /\u001b[0m\n",
      "\u001b[35mTemp directory: /home/model-server/tmp\u001b[0m\n",
      "\u001b[35mNumber of GPUs: 0\u001b[0m\n",
      "\u001b[35mNumber of CPUs: 2\u001b[0m\n",
      "\u001b[35mMax heap size: 978 M\u001b[0m\n",
      "\u001b[35mPython executable: /opt/conda/bin/python3.8\u001b[0m\n",
      "\u001b[35mConfig file: /etc/sagemaker-ts.properties\u001b[0m\n",
      "\u001b[35mInference address: http://0.0.0.0:8080\u001b[0m\n",
      "\u001b[35mManagement address: http://0.0.0.0:8080\u001b[0m\n",
      "\u001b[35mMetrics address: http://127.0.0.1:8082\u001b[0m\n",
      "\u001b[35mModel Store: /.sagemaker/ts/models\u001b[0m\n",
      "\u001b[35mInitial Models: model.mar\u001b[0m\n",
      "\u001b[35mLog dir: /logs\u001b[0m\n",
      "\u001b[35mMetrics dir: /logs\u001b[0m\n",
      "\u001b[35mNetty threads: 0\u001b[0m\n",
      "\u001b[35mNetty client threads: 0\u001b[0m\n",
      "\u001b[35mDefault workers per model: 2\u001b[0m\n",
      "\u001b[35mBlacklist Regex: N/A\u001b[0m\n",
      "\u001b[35mMaximum Response Size: 6553500\u001b[0m\n",
      "\u001b[35mMaximum Request Size: 6553500\u001b[0m\n",
      "\u001b[35mPrefer direct buffer: false\u001b[0m\n",
      "\u001b[35mAllowed Urls: [file://.*|http(s)?://.*]\u001b[0m\n",
      "\u001b[35mCustom python dependency for model allowed: false\u001b[0m\n",
      "\u001b[35mMetrics report format: prometheus\u001b[0m\n",
      "\u001b[34mEnable metrics API: true\u001b[0m\n",
      "\u001b[34mWorkflow Store: /.sagemaker/ts/models\u001b[0m\n",
      "\u001b[34mModel config: N/A\u001b[0m\n",
      "\u001b[34m2023-04-26 02:54:31,782 [INFO ] main org.pytorch.serve.servingsdk.impl.PluginsManager -  Loading snapshot serializer plugin...\u001b[0m\n",
      "\u001b[34m2023-04-26 02:54:31,830 [INFO ] main org.pytorch.serve.ModelServer - Loading initial models: model.mar\u001b[0m\n",
      "\u001b[35mEnable metrics API: true\u001b[0m\n",
      "\u001b[35mWorkflow Store: /.sagemaker/ts/models\u001b[0m\n",
      "\u001b[35mModel config: N/A\u001b[0m\n",
      "\u001b[35m2023-04-26 02:54:31,782 [INFO ] main org.pytorch.serve.servingsdk.impl.PluginsManager -  Loading snapshot serializer plugin...\u001b[0m\n",
      "\u001b[35m2023-04-26 02:54:31,830 [INFO ] main org.pytorch.serve.ModelServer - Loading initial models: model.mar\u001b[0m\n",
      "\u001b[34m2023-04-26 02:54:32,771 [INFO ] main org.pytorch.serve.wlm.ModelManager - Model model loaded.\u001b[0m\n",
      "\u001b[34m2023-04-26 02:54:32,799 [INFO ] main org.pytorch.serve.ModelServer - Initialize Inference server with: EpollServerSocketChannel.\u001b[0m\n",
      "\u001b[34m2023-04-26 02:54:33,051 [INFO ] main org.pytorch.serve.ModelServer - Inference API bind to: http://0.0.0.0:8080\u001b[0m\n",
      "\u001b[34m2023-04-26 02:54:33,052 [INFO ] main org.pytorch.serve.ModelServer - Initialize Metrics server with: EpollServerSocketChannel.\u001b[0m\n",
      "\u001b[34m2023-04-26 02:54:33,072 [INFO ] main org.pytorch.serve.ModelServer - Metrics API bind to: http://127.0.0.1:8082\u001b[0m\n",
      "\u001b[35m2023-04-26 02:54:32,771 [INFO ] main org.pytorch.serve.wlm.ModelManager - Model model loaded.\u001b[0m\n",
      "\u001b[35m2023-04-26 02:54:32,799 [INFO ] main org.pytorch.serve.ModelServer - Initialize Inference server with: EpollServerSocketChannel.\u001b[0m\n",
      "\u001b[35m2023-04-26 02:54:33,051 [INFO ] main org.pytorch.serve.ModelServer - Inference API bind to: http://0.0.0.0:8080\u001b[0m\n",
      "\u001b[35m2023-04-26 02:54:33,052 [INFO ] main org.pytorch.serve.ModelServer - Initialize Metrics server with: EpollServerSocketChannel.\u001b[0m\n",
      "\u001b[35m2023-04-26 02:54:33,072 [INFO ] main org.pytorch.serve.ModelServer - Metrics API bind to: http://127.0.0.1:8082\u001b[0m\n",
      "\u001b[34m2023-04-26 02:54:33,474 [INFO ] pool-1-thread-3 ACCESS_LOG - /169.254.255.130:41794 \"GET /ping HTTP/1.1\" 200 82\u001b[0m\n",
      "\u001b[34m2023-04-26 02:54:33,491 [INFO ] pool-1-thread-3 TS_METRICS - Requests2XX.Count:1|#Level:Host|#hostname:df4b6e171657,timestamp:null\u001b[0m\n",
      "\u001b[34mModel server started.\u001b[0m\n",
      "\u001b[35m2023-04-26 02:54:33,474 [INFO ] pool-1-thread-3 ACCESS_LOG - /169.254.255.130:41794 \"GET /ping HTTP/1.1\" 200 82\u001b[0m\n",
      "\u001b[35m2023-04-26 02:54:33,491 [INFO ] pool-1-thread-3 TS_METRICS - Requests2XX.Count:1|#Level:Host|#hostname:df4b6e171657,timestamp:null\u001b[0m\n",
      "\u001b[35mModel server started.\u001b[0m\n",
      "\u001b[34m2023-04-26 02:54:33,794 [WARN ] pool-2-thread-1 org.pytorch.serve.metrics.MetricCollector - worker pid is not available yet.\u001b[0m\n",
      "\u001b[34m2023-04-26 02:54:33,869 [INFO ] pool-2-thread-1 TS_METRICS - CPUUtilization.Percent:0.0|#Level:Host|#hostname:df4b6e171657,timestamp:1682477673\u001b[0m\n",
      "\u001b[34m2023-04-26 02:54:33,870 [INFO ] pool-2-thread-1 TS_METRICS - DiskAvailable.Gigabytes:46.924068450927734|#Level:Host|#hostname:df4b6e171657,timestamp:1682477673\u001b[0m\n",
      "\u001b[35m2023-04-26 02:54:33,794 [WARN ] pool-2-thread-1 org.pytorch.serve.metrics.MetricCollector - worker pid is not available yet.\u001b[0m\n",
      "\u001b[35m2023-04-26 02:54:33,869 [INFO ] pool-2-thread-1 TS_METRICS - CPUUtilization.Percent:0.0|#Level:Host|#hostname:df4b6e171657,timestamp:1682477673\u001b[0m\n",
      "\u001b[35m2023-04-26 02:54:33,870 [INFO ] pool-2-thread-1 TS_METRICS - DiskAvailable.Gigabytes:46.924068450927734|#Level:Host|#hostname:df4b6e171657,timestamp:1682477673\u001b[0m\n",
      "\u001b[34m2023-04-26 02:54:33,871 [INFO ] pool-2-thread-1 TS_METRICS - DiskUsage.Gigabytes:8.941062927246094|#Level:Host|#hostname:df4b6e171657,timestamp:1682477673\u001b[0m\n",
      "\u001b[34m2023-04-26 02:54:33,874 [INFO ] pool-2-thread-1 TS_METRICS - DiskUtilization.Percent:16.0|#Level:Host|#hostname:df4b6e171657,timestamp:1682477673\u001b[0m\n",
      "\u001b[34m2023-04-26 02:54:33,877 [INFO ] pool-2-thread-1 TS_METRICS - MemoryAvailable.Megabytes:6438.53125|#Level:Host|#hostname:df4b6e171657,timestamp:1682477673\u001b[0m\n",
      "\u001b[34m2023-04-26 02:54:33,879 [INFO ] pool-2-thread-1 TS_METRICS - MemoryUsed.Megabytes:1014.92578125|#Level:Host|#hostname:df4b6e171657,timestamp:1682477673\u001b[0m\n",
      "\u001b[35m2023-04-26 02:54:33,871 [INFO ] pool-2-thread-1 TS_METRICS - DiskUsage.Gigabytes:8.941062927246094|#Level:Host|#hostname:df4b6e171657,timestamp:1682477673\u001b[0m\n",
      "\u001b[35m2023-04-26 02:54:33,874 [INFO ] pool-2-thread-1 TS_METRICS - DiskUtilization.Percent:16.0|#Level:Host|#hostname:df4b6e171657,timestamp:1682477673\u001b[0m\n",
      "\u001b[35m2023-04-26 02:54:33,877 [INFO ] pool-2-thread-1 TS_METRICS - MemoryAvailable.Megabytes:6438.53125|#Level:Host|#hostname:df4b6e171657,timestamp:1682477673\u001b[0m\n",
      "\u001b[35m2023-04-26 02:54:33,879 [INFO ] pool-2-thread-1 TS_METRICS - MemoryUsed.Megabytes:1014.92578125|#Level:Host|#hostname:df4b6e171657,timestamp:1682477673\u001b[0m\n",
      "\u001b[34m2023-04-26 02:54:33,879 [INFO ] pool-2-thread-1 TS_METRICS - MemoryUtilization.Percent:16.9|#Level:Host|#hostname:df4b6e171657,timestamp:1682477673\u001b[0m\n",
      "\u001b[34m2023-04-26 02:54:33,953 [INFO ] W-9000-model_1-stdout MODEL_LOG - Listening on port: /home/model-server/tmp/.ts.sock.9000\u001b[0m\n",
      "\u001b[34m2023-04-26 02:54:33,953 [INFO ] W-9000-model_1-stdout MODEL_LOG - [PID]42\u001b[0m\n",
      "\u001b[34m2023-04-26 02:54:33,954 [INFO ] W-9000-model_1-stdout MODEL_LOG - Torch worker started.\u001b[0m\n",
      "\u001b[34m2023-04-26 02:54:33,956 [INFO ] W-9000-model_1-stdout MODEL_LOG - Python runtime: 3.8.10\u001b[0m\n",
      "\u001b[34m2023-04-26 02:54:33,958 [INFO ] W-9000-model_1 org.pytorch.serve.wlm.WorkerThread - Connecting to: /home/model-server/tmp/.ts.sock.9000\u001b[0m\n",
      "\u001b[34m2023-04-26 02:54:34,002 [INFO ] epollEventLoopGroup-3-2 ACCESS_LOG - /169.254.255.130:41800 \"GET /execution-parameters HTTP/1.1\" 404 1\u001b[0m\n",
      "\u001b[34m2023-04-26 02:54:34,004 [INFO ] epollEventLoopGroup-3-2 TS_METRICS - Requests4XX.Count:1|#Level:Host|#hostname:df4b6e171657,timestamp:null\u001b[0m\n",
      "\u001b[34m2023-04-26 02:54:34,005 [INFO ] W-9000-model_1-stdout MODEL_LOG - Connection accepted: /home/model-server/tmp/.ts.sock.9000.\u001b[0m\n",
      "\u001b[34m2023-04-26 02:54:34,070 [INFO ] W-9000-model_1-stdout MODEL_LOG - model_name: model, batchSize: 1\u001b[0m\n",
      "\u001b[34m2023-04-26 02:54:34,171 [INFO ] W-9001-model_1-stdout MODEL_LOG - Listening on port: /home/model-server/tmp/.ts.sock.9001\u001b[0m\n",
      "\u001b[34m2023-04-26 02:54:34,173 [INFO ] W-9001-model_1-stdout MODEL_LOG - [PID]43\u001b[0m\n",
      "\u001b[34m2023-04-26 02:54:34,175 [INFO ] W-9001-model_1-stdout MODEL_LOG - Torch worker started.\u001b[0m\n",
      "\u001b[34m2023-04-26 02:54:34,175 [INFO ] W-9001-model_1 org.pytorch.serve.wlm.WorkerThread - Connecting to: /home/model-server/tmp/.ts.sock.9001\u001b[0m\n",
      "\u001b[34m2023-04-26 02:54:34,180 [INFO ] W-9001-model_1-stdout MODEL_LOG - Python runtime: 3.8.10\u001b[0m\n",
      "\u001b[34m2023-04-26 02:54:34,185 [INFO ] W-9001-model_1-stdout MODEL_LOG - Connection accepted: /home/model-server/tmp/.ts.sock.9001.\u001b[0m\n",
      "\u001b[34m2023-04-26 02:54:34,311 [INFO ] W-9001-model_1-stdout MODEL_LOG - model_name: model, batchSize: 1\u001b[0m\n",
      "\u001b[35m2023-04-26 02:54:33,879 [INFO ] pool-2-thread-1 TS_METRICS - MemoryUtilization.Percent:16.9|#Level:Host|#hostname:df4b6e171657,timestamp:1682477673\u001b[0m\n",
      "\u001b[35m2023-04-26 02:54:33,953 [INFO ] W-9000-model_1-stdout MODEL_LOG - Listening on port: /home/model-server/tmp/.ts.sock.9000\u001b[0m\n",
      "\u001b[35m2023-04-26 02:54:33,953 [INFO ] W-9000-model_1-stdout MODEL_LOG - [PID]42\u001b[0m\n",
      "\u001b[35m2023-04-26 02:54:33,954 [INFO ] W-9000-model_1-stdout MODEL_LOG - Torch worker started.\u001b[0m\n",
      "\u001b[35m2023-04-26 02:54:33,956 [INFO ] W-9000-model_1-stdout MODEL_LOG - Python runtime: 3.8.10\u001b[0m\n",
      "\u001b[35m2023-04-26 02:54:33,958 [INFO ] W-9000-model_1 org.pytorch.serve.wlm.WorkerThread - Connecting to: /home/model-server/tmp/.ts.sock.9000\u001b[0m\n",
      "\u001b[35m2023-04-26 02:54:34,002 [INFO ] epollEventLoopGroup-3-2 ACCESS_LOG - /169.254.255.130:41800 \"GET /execution-parameters HTTP/1.1\" 404 1\u001b[0m\n",
      "\u001b[35m2023-04-26 02:54:34,004 [INFO ] epollEventLoopGroup-3-2 TS_METRICS - Requests4XX.Count:1|#Level:Host|#hostname:df4b6e171657,timestamp:null\u001b[0m\n",
      "\u001b[35m2023-04-26 02:54:34,005 [INFO ] W-9000-model_1-stdout MODEL_LOG - Connection accepted: /home/model-server/tmp/.ts.sock.9000.\u001b[0m\n",
      "\u001b[35m2023-04-26 02:54:34,070 [INFO ] W-9000-model_1-stdout MODEL_LOG - model_name: model, batchSize: 1\u001b[0m\n",
      "\u001b[35m2023-04-26 02:54:34,171 [INFO ] W-9001-model_1-stdout MODEL_LOG - Listening on port: /home/model-server/tmp/.ts.sock.9001\u001b[0m\n",
      "\u001b[35m2023-04-26 02:54:34,173 [INFO ] W-9001-model_1-stdout MODEL_LOG - [PID]43\u001b[0m\n",
      "\u001b[35m2023-04-26 02:54:34,175 [INFO ] W-9001-model_1-stdout MODEL_LOG - Torch worker started.\u001b[0m\n",
      "\u001b[35m2023-04-26 02:54:34,175 [INFO ] W-9001-model_1 org.pytorch.serve.wlm.WorkerThread - Connecting to: /home/model-server/tmp/.ts.sock.9001\u001b[0m\n",
      "\u001b[35m2023-04-26 02:54:34,180 [INFO ] W-9001-model_1-stdout MODEL_LOG - Python runtime: 3.8.10\u001b[0m\n",
      "\u001b[35m2023-04-26 02:54:34,185 [INFO ] W-9001-model_1-stdout MODEL_LOG - Connection accepted: /home/model-server/tmp/.ts.sock.9001.\u001b[0m\n",
      "\u001b[35m2023-04-26 02:54:34,311 [INFO ] W-9001-model_1-stdout MODEL_LOG - model_name: model, batchSize: 1\u001b[0m\n",
      "\u001b[34m2023-04-26 02:54:34,441 [INFO ] W-9000-model_1-stdout MODEL_LOG - NumExpr defaulting to 2 threads.\u001b[0m\n",
      "\u001b[34m2023-04-26 02:54:34,602 [INFO ] W-9001-model_1-stdout MODEL_LOG - NumExpr defaulting to 2 threads.\u001b[0m\n",
      "\u001b[34m2023-04-26 02:54:35,324 [INFO ] W-9001-model_1 org.pytorch.serve.wlm.WorkerThread - Backend response time: 998\u001b[0m\n",
      "\u001b[34m2023-04-26 02:54:35,324 [INFO ] W-9001-model_1 TS_METRICS - W-9001-model_1.ms:2538|#Level:Host|#hostname:df4b6e171657,timestamp:1682477675\u001b[0m\n",
      "\u001b[34m2023-04-26 02:54:35,324 [INFO ] W-9001-model_1 TS_METRICS - WorkerThreadTime.ms:138|#Level:Host|#hostname:df4b6e171657,timestamp:null\u001b[0m\n",
      "\u001b[35m2023-04-26 02:54:34,441 [INFO ] W-9000-model_1-stdout MODEL_LOG - NumExpr defaulting to 2 threads.\u001b[0m\n",
      "\u001b[35m2023-04-26 02:54:34,602 [INFO ] W-9001-model_1-stdout MODEL_LOG - NumExpr defaulting to 2 threads.\u001b[0m\n",
      "\u001b[35m2023-04-26 02:54:35,324 [INFO ] W-9001-model_1 org.pytorch.serve.wlm.WorkerThread - Backend response time: 998\u001b[0m\n",
      "\u001b[35m2023-04-26 02:54:35,324 [INFO ] W-9001-model_1 TS_METRICS - W-9001-model_1.ms:2538|#Level:Host|#hostname:df4b6e171657,timestamp:1682477675\u001b[0m\n",
      "\u001b[35m2023-04-26 02:54:35,324 [INFO ] W-9001-model_1 TS_METRICS - WorkerThreadTime.ms:138|#Level:Host|#hostname:df4b6e171657,timestamp:null\u001b[0m\n",
      "\u001b[34m2023-04-26 02:54:35,361 [INFO ] W-9000-model_1 org.pytorch.serve.wlm.WorkerThread - Backend response time: 1294\u001b[0m\n",
      "\u001b[34m2023-04-26 02:54:35,361 [INFO ] W-9000-model_1 TS_METRICS - W-9000-model_1.ms:2579|#Level:Host|#hostname:df4b6e171657,timestamp:1682477675\u001b[0m\n",
      "\u001b[34m2023-04-26 02:54:35,362 [INFO ] W-9000-model_1 TS_METRICS - WorkerThreadTime.ms:57|#Level:Host|#hostname:df4b6e171657,timestamp:null\u001b[0m\n",
      "\u001b[34m2023-04-26 02:54:35,439 [INFO ] W-9001-model_1 org.pytorch.serve.wlm.WorkerThread - Backend response time: 5\u001b[0m\n",
      "\u001b[34m2023-04-26 02:54:35,440 [INFO ] W-9001-model_1 ACCESS_LOG - /169.254.255.130:41812 \"POST /invocations HTTP/1.1\" 200 29\u001b[0m\n",
      "\u001b[34m2023-04-26 02:54:35,440 [INFO ] W-9001-model_1 TS_METRICS - Requests2XX.Count:1|#Level:Host|#hostname:df4b6e171657,timestamp:null\u001b[0m\n",
      "\u001b[34m2023-04-26 02:54:35,440 [INFO ] W-9001-model_1 TS_METRICS - QueueTime.ms:3|#Level:Host|#hostname:df4b6e171657,timestamp:null\u001b[0m\n",
      "\u001b[34m2023-04-26 02:54:35,440 [INFO ] W-9001-model_1 TS_METRICS - WorkerThreadTime.ms:10|#Level:Host|#hostname:df4b6e171657,timestamp:null\u001b[0m\n",
      "\u001b[34m2023-04-26 02:54:35,441 [INFO ] W-9001-model_1-stdout MODEL_METRICS - PredictionTime.Milliseconds:7.72|#ModelName:model,Level:Model|#hostname:df4b6e171657,requestID:1bf9b4fa-0392-4801-a1f9-4c4c963f8aa0,timestamp:1682477675\u001b[0m\n",
      "\u001b[35m2023-04-26 02:54:35,361 [INFO ] W-9000-model_1 org.pytorch.serve.wlm.WorkerThread - Backend response time: 1294\u001b[0m\n",
      "\u001b[35m2023-04-26 02:54:35,361 [INFO ] W-9000-model_1 TS_METRICS - W-9000-model_1.ms:2579|#Level:Host|#hostname:df4b6e171657,timestamp:1682477675\u001b[0m\n",
      "\u001b[35m2023-04-26 02:54:35,362 [INFO ] W-9000-model_1 TS_METRICS - WorkerThreadTime.ms:57|#Level:Host|#hostname:df4b6e171657,timestamp:null\u001b[0m\n",
      "\u001b[35m2023-04-26 02:54:35,439 [INFO ] W-9001-model_1 org.pytorch.serve.wlm.WorkerThread - Backend response time: 5\u001b[0m\n",
      "\u001b[35m2023-04-26 02:54:35,440 [INFO ] W-9001-model_1 ACCESS_LOG - /169.254.255.130:41812 \"POST /invocations HTTP/1.1\" 200 29\u001b[0m\n",
      "\u001b[35m2023-04-26 02:54:35,440 [INFO ] W-9001-model_1 TS_METRICS - Requests2XX.Count:1|#Level:Host|#hostname:df4b6e171657,timestamp:null\u001b[0m\n",
      "\u001b[35m2023-04-26 02:54:35,440 [INFO ] W-9001-model_1 TS_METRICS - QueueTime.ms:3|#Level:Host|#hostname:df4b6e171657,timestamp:null\u001b[0m\n",
      "\u001b[35m2023-04-26 02:54:35,440 [INFO ] W-9001-model_1 TS_METRICS - WorkerThreadTime.ms:10|#Level:Host|#hostname:df4b6e171657,timestamp:null\u001b[0m\n",
      "\u001b[35m2023-04-26 02:54:35,441 [INFO ] W-9001-model_1-stdout MODEL_METRICS - PredictionTime.Milliseconds:7.72|#ModelName:model,Level:Model|#hostname:df4b6e171657,requestID:1bf9b4fa-0392-4801-a1f9-4c4c963f8aa0,timestamp:1682477675\u001b[0m\n",
      "\u001b[32m2023-04-26T02:54:35.328:[sagemaker logs]: MaxConcurrentTransforms=1, MaxPayloadInMB=6, BatchStrategy=MULTI_RECORD\u001b[0m\n"
     ]
    }
   ],
   "source": [
    "sm_transformer.transform(test_dataset_s3_path, content_type=\"text/csv\", split_type=\"Line\")\n",
    "sm_transformer.wait()"
   ]
  },
  {
   "cell_type": "markdown",
   "id": "4b074380-ccd4-43b0-99e7-b8a681c3d16a",
   "metadata": {},
   "source": [
    "# 5. バッチ推論結果の確認（ソリューションでは不要）\n",
    "* S3からデータ読み込み\n",
    "* 真の値と比べる"
   ]
  },
  {
   "cell_type": "markdown",
   "id": "45fcff3c-5912-41d8-bd8f-66c93020de47",
   "metadata": {},
   "source": [
    "## 5-1. S3から予測結果をダウンロードし、読み込み"
   ]
  },
  {
   "cell_type": "code",
   "execution_count": 44,
   "id": "ab1c2f0e-fb41-4ca3-b11a-60b674a0ac18",
   "metadata": {},
   "outputs": [
    {
     "data": {
      "text/plain": [
       "'s3://sagemaker-us-east-1-805433377179/sagemaker-jumpstart-2023-04-26-02-49-20-353'"
      ]
     },
     "execution_count": 44,
     "metadata": {},
     "output_type": "execute_result"
    }
   ],
   "source": [
    "sm_transformer.output_path"
   ]
  },
  {
   "cell_type": "code",
   "execution_count": 51,
   "id": "a7920a8a-576f-4b2f-9006-cdb815f865de",
   "metadata": {
    "tags": []
   },
   "outputs": [],
   "source": [
    "local_output_dir = \"output_inference\""
   ]
  },
  {
   "cell_type": "code",
   "execution_count": 52,
   "id": "9d1ae8a6-60ca-45a2-ab42-006f2269bba3",
   "metadata": {
    "tags": []
   },
   "outputs": [
    {
     "name": "stdout",
     "output_type": "stream",
     "text": [
      "download: s3://sagemaker-us-east-1-805433377179/sagemaker-jumpstart-2023-04-26-02-49-20-353/test_yyyymmdd_9.csv.csv.out to output_inference/test_yyyymmdd_9.csv.csv.out\n"
     ]
    }
   ],
   "source": [
    "!aws s3 sync $sm_transformer.output_path $local_output_dir"
   ]
  },
  {
   "cell_type": "code",
   "execution_count": 60,
   "id": "9f1de09f-e25c-41b4-9ae3-f067c2e748f0",
   "metadata": {
    "tags": []
   },
   "outputs": [],
   "source": [
    "df_pred = pd.read_json (local_output_dir + \"/test_yyyymmdd_9.csv.csv.out\")"
   ]
  },
  {
   "cell_type": "code",
   "execution_count": 62,
   "id": "52766784-93ea-459c-890e-fae83187df0d",
   "metadata": {
    "tags": []
   },
   "outputs": [
    {
     "name": "stdout",
     "output_type": "stream",
     "text": [
      "(100, 1)\n"
     ]
    },
    {
     "data": {
      "text/html": [
       "<div>\n",
       "<style scoped>\n",
       "    .dataframe tbody tr th:only-of-type {\n",
       "        vertical-align: middle;\n",
       "    }\n",
       "\n",
       "    .dataframe tbody tr th {\n",
       "        vertical-align: top;\n",
       "    }\n",
       "\n",
       "    .dataframe thead th {\n",
       "        text-align: right;\n",
       "    }\n",
       "</style>\n",
       "<table border=\"1\" class=\"dataframe\">\n",
       "  <thead>\n",
       "    <tr style=\"text-align: right;\">\n",
       "      <th></th>\n",
       "      <th>prediction</th>\n",
       "    </tr>\n",
       "  </thead>\n",
       "  <tbody>\n",
       "    <tr>\n",
       "      <th>0</th>\n",
       "      <td>523.273555</td>\n",
       "    </tr>\n",
       "    <tr>\n",
       "      <th>1</th>\n",
       "      <td>524.507939</td>\n",
       "    </tr>\n",
       "    <tr>\n",
       "      <th>2</th>\n",
       "      <td>522.539238</td>\n",
       "    </tr>\n",
       "    <tr>\n",
       "      <th>3</th>\n",
       "      <td>538.170696</td>\n",
       "    </tr>\n",
       "    <tr>\n",
       "      <th>4</th>\n",
       "      <td>541.974569</td>\n",
       "    </tr>\n",
       "  </tbody>\n",
       "</table>\n",
       "</div>"
      ],
      "text/plain": [
       "   prediction\n",
       "0  523.273555\n",
       "1  524.507939\n",
       "2  522.539238\n",
       "3  538.170696\n",
       "4  541.974569"
      ]
     },
     "execution_count": 62,
     "metadata": {},
     "output_type": "execute_result"
    }
   ],
   "source": [
    "# Check\n",
    "print(df_pred.shape)\n",
    "df_pred.head()"
   ]
  },
  {
   "cell_type": "markdown",
   "id": "1dab023a-f77f-4e39-97fe-cfd07f3d616e",
   "metadata": {},
   "source": [
    "## 5-2. 可視化"
   ]
  },
  {
   "cell_type": "code",
   "execution_count": 67,
   "id": "87108f8e-6344-4493-9c99-526955e40948",
   "metadata": {
    "tags": []
   },
   "outputs": [
    {
     "name": "stdout",
     "output_type": "stream",
     "text": [
      "(100, 2)\n",
      "(100,)\n"
     ]
    },
    {
     "data": {
      "text/plain": [
       "800    141\n",
       "801    393\n",
       "802    698\n",
       "803    948\n",
       "804    152\n",
       "Name: target, dtype: int64"
      ]
     },
     "execution_count": 67,
     "metadata": {},
     "output_type": "execute_result"
    }
   ],
   "source": [
    "# Check\n",
    "print(df_pred.shape)\n",
    "print(y_te.shape)\n",
    "\n",
    "y_te.head()"
   ]
  },
  {
   "cell_type": "code",
   "execution_count": 68,
   "id": "eb9090c0-1656-4d2c-b206-0a41ee475233",
   "metadata": {
    "tags": []
   },
   "outputs": [],
   "source": [
    "df_pred['ground_truth'] = y_te.values"
   ]
  },
  {
   "cell_type": "code",
   "execution_count": 69,
   "id": "d56d52ce-0e70-424f-a2ef-3e905e518990",
   "metadata": {
    "tags": []
   },
   "outputs": [
    {
     "data": {
      "text/html": [
       "<div>\n",
       "<style scoped>\n",
       "    .dataframe tbody tr th:only-of-type {\n",
       "        vertical-align: middle;\n",
       "    }\n",
       "\n",
       "    .dataframe tbody tr th {\n",
       "        vertical-align: top;\n",
       "    }\n",
       "\n",
       "    .dataframe thead th {\n",
       "        text-align: right;\n",
       "    }\n",
       "</style>\n",
       "<table border=\"1\" class=\"dataframe\">\n",
       "  <thead>\n",
       "    <tr style=\"text-align: right;\">\n",
       "      <th></th>\n",
       "      <th>prediction</th>\n",
       "      <th>ground_truth</th>\n",
       "    </tr>\n",
       "  </thead>\n",
       "  <tbody>\n",
       "    <tr>\n",
       "      <th>0</th>\n",
       "      <td>523.273555</td>\n",
       "      <td>141</td>\n",
       "    </tr>\n",
       "    <tr>\n",
       "      <th>1</th>\n",
       "      <td>524.507939</td>\n",
       "      <td>393</td>\n",
       "    </tr>\n",
       "    <tr>\n",
       "      <th>2</th>\n",
       "      <td>522.539238</td>\n",
       "      <td>698</td>\n",
       "    </tr>\n",
       "    <tr>\n",
       "      <th>3</th>\n",
       "      <td>538.170696</td>\n",
       "      <td>948</td>\n",
       "    </tr>\n",
       "    <tr>\n",
       "      <th>4</th>\n",
       "      <td>541.974569</td>\n",
       "      <td>152</td>\n",
       "    </tr>\n",
       "    <tr>\n",
       "      <th>...</th>\n",
       "      <td>...</td>\n",
       "      <td>...</td>\n",
       "    </tr>\n",
       "    <tr>\n",
       "      <th>95</th>\n",
       "      <td>534.912318</td>\n",
       "      <td>426</td>\n",
       "    </tr>\n",
       "    <tr>\n",
       "      <th>96</th>\n",
       "      <td>540.459086</td>\n",
       "      <td>579</td>\n",
       "    </tr>\n",
       "    <tr>\n",
       "      <th>97</th>\n",
       "      <td>532.395316</td>\n",
       "      <td>417</td>\n",
       "    </tr>\n",
       "    <tr>\n",
       "      <th>98</th>\n",
       "      <td>542.887240</td>\n",
       "      <td>110</td>\n",
       "    </tr>\n",
       "    <tr>\n",
       "      <th>99</th>\n",
       "      <td>514.959265</td>\n",
       "      <td>566</td>\n",
       "    </tr>\n",
       "  </tbody>\n",
       "</table>\n",
       "<p>100 rows × 2 columns</p>\n",
       "</div>"
      ],
      "text/plain": [
       "    prediction  ground_truth\n",
       "0   523.273555           141\n",
       "1   524.507939           393\n",
       "2   522.539238           698\n",
       "3   538.170696           948\n",
       "4   541.974569           152\n",
       "..         ...           ...\n",
       "95  534.912318           426\n",
       "96  540.459086           579\n",
       "97  532.395316           417\n",
       "98  542.887240           110\n",
       "99  514.959265           566\n",
       "\n",
       "[100 rows x 2 columns]"
      ]
     },
     "execution_count": 69,
     "metadata": {},
     "output_type": "execute_result"
    }
   ],
   "source": [
    "df_pred"
   ]
  },
  {
   "cell_type": "code",
   "execution_count": 77,
   "id": "ac268415-ad04-40d4-82cb-21aa31b1f53e",
   "metadata": {
    "tags": []
   },
   "outputs": [
    {
     "data": {
      "text/plain": [
       "<AxesSubplot: >"
      ]
     },
     "execution_count": 77,
     "metadata": {},
     "output_type": "execute_result"
    },
    {
     "data": {
      "image/png": "[encoded data removed]",
      "text/plain": [
       "<Figure size 1500x500 with 1 Axes>"
      ]
     },
     "metadata": {},
     "output_type": "display_data"
    }
   ],
   "source": [
    "df_pred.plot(grid=True, figsize=(15,5))"
   ]
  },
  {
   "cell_type": "code",
   "execution_count": null,
   "id": "5764a85b-9532-446c-bfcc-d4cd169d9afb",
   "metadata": {},
   "outputs": [],
   "source": []
  }
 ],
 "metadata": {
  "instance_type": "ml.t3.medium",
  "kernelspec": {
   "display_name": "Python 3 (Data Science)",
   "language": "python",
   "name": "python3__SAGEMAKER_INTERNAL__arn:aws:sagemaker:us-east-1:081325390199:image/datascience-1.0"
  },
  "language_info": {
   "codemirror_mode": {
    "name": "ipython",
    "version": 3
   },
   "file_extension": ".py",
   "mimetype": "text/x-python",
   "name": "python",
   "nbconvert_exporter": "python",
   "pygments_lexer": "ipython3",
   "version": "3.7.10"
  }
 },
 "nbformat": 4,
 "nbformat_minor": 5
}
