{
 "cells": [
  {
   "cell_type": "markdown",
   "id": "865d8c9d-eb62-4189-bc20-7977074e40d6",
   "metadata": {},
   "source": [
    "#\n",
    "必要最小数のデータ量で、\n",
    "\n",
    "* 分類\n",
    "* 回帰\n",
    "* 時系列\n",
    "\n",
    "をautopilotで行う"
   ]
  },
  {
   "cell_type": "markdown",
   "id": "a1e4c8f6-4a6b-4bcb-bd16-2384a13771af",
   "metadata": {},
   "source": [
    "https://docs.aws.amazon.com/sagemaker/latest/dg/autopilot-reference.html\n",
    "\n",
    "\n",
    "CreateAutoMLJob\n",
    "\n",
    "https://boto3.amazonaws.com/v1/documentation/api/latest/reference/services/sagemaker/client/create_auto_ml_job.html\n",
    "\n",
    "\n",
    "A minimum of 500 rows is required for the training dataset.\n",
    "\n",
    "\n",
    "https://boto3.amazonaws.com/v1/documentation/api/latest/reference/services/sagemaker/client/create_auto_ml_job_v2.html\n",
    "\n",
    "\n",
    "Creates an Amazon SageMaker AutoML job that uses non-tabular data such as images or text for Computer Vision or Natural Language Processing problems.\n",
    "\n",
    "\n",
    "\n",
    "\n",
    "boto3の場合\n",
    "\n",
    "SageMaker SDKの場合\n",
    "https://sagemaker.readthedocs.io/en/stable/api/training/automl.html#sagemaker.automl.automl.AutoMLJob\n"
   ]
  },
  {
   "cell_type": "code",
   "execution_count": null,
   "id": "f7238ee9-2d11-4124-85e2-5b3c9ed13c42",
   "metadata": {},
   "outputs": [],
   "source": []
  },
  {
   "cell_type": "code",
   "execution_count": null,
   "id": "c5aa673a-26cf-4124-86e4-08372dae5e8a",
   "metadata": {},
   "outputs": [],
   "source": []
  },
  {
   "cell_type": "code",
   "execution_count": null,
   "id": "8790461c-c7f2-43c6-bc0a-61a3c231f5c3",
   "metadata": {},
   "outputs": [],
   "source": []
  },
  {
   "cell_type": "code",
   "execution_count": null,
   "id": "981a8835-e005-4061-bde8-ec39e8c139ec",
   "metadata": {},
   "outputs": [],
   "source": []
  },
  {
   "cell_type": "code",
   "execution_count": null,
   "id": "d9172f1a-cb1e-4e17-a642-759fa3a15040",
   "metadata": {},
   "outputs": [],
   "source": []
  },
  {
   "cell_type": "markdown",
   "id": "96b748bc-a9d9-494a-9b13-29a77db6486c",
   "metadata": {},
   "source": [
    "https://boto3.amazonaws.com/v1/documentation/api/latest/reference/services/sagemaker/client/create_auto_ml_job.html"
   ]
  },
  {
   "cell_type": "code",
   "execution_count": null,
   "id": "dd10e089-79e7-4a1e-8798-71e3bfbea4d4",
   "metadata": {
    "tags": []
   },
   "outputs": [],
   "source": [
    "'''\n",
    "response = client.create_auto_ml_job(\n",
    "    AutoMLJobName='string',\n",
    "    InputDataConfig=[\n",
    "        {\n",
    "            'DataSource': {\n",
    "                'S3DataSource': {\n",
    "                    'S3DataType': 'ManifestFile'|'S3Prefix'|'AugmentedManifestFile',\n",
    "                    'S3Uri': 'string'\n",
    "                }\n",
    "            },\n",
    "            'CompressionType': 'None'|'Gzip',\n",
    "            'TargetAttributeName': 'string',\n",
    "            'ContentType': 'string',\n",
    "            'ChannelType': 'training'|'validation',\n",
    "            'SampleWeightAttributeName': 'string'\n",
    "        },\n",
    "    ],\n",
    "    OutputDataConfig={\n",
    "        'KmsKeyId': 'string',\n",
    "        'S3OutputPath': 'string'\n",
    "    },\n",
    "    ProblemType='BinaryClassification'|'MulticlassClassification'|'Regression',\n",
    "    AutoMLJobObjective={\n",
    "        'MetricName': 'Accuracy'|'MSE'|'F1'|'F1macro'|'AUC'|'RMSE'|'MAE'|'R2'|'BalancedAccuracy'|'Precision'|'PrecisionMacro'|'Recall'|'RecallMacro'\n",
    "    },\n",
    "    AutoMLJobConfig={\n",
    "        'CompletionCriteria': {\n",
    "            'MaxCandidates': 123,\n",
    "            'MaxRuntimePerTrainingJobInSeconds': 123,\n",
    "            'MaxAutoMLJobRuntimeInSeconds': 123\n",
    "        },\n",
    "        'SecurityConfig': {\n",
    "            'VolumeKmsKeyId': 'string',\n",
    "            'EnableInterContainerTrafficEncryption': True|False,\n",
    "            'VpcConfig': {\n",
    "                'SecurityGroupIds': [\n",
    "                    'string',\n",
    "                ],\n",
    "                'Subnets': [\n",
    "                    'string',\n",
    "                ]\n",
    "            }\n",
    "        },\n",
    "        'DataSplitConfig': {\n",
    "            'ValidationFraction': ...\n",
    "        },\n",
    "        'CandidateGenerationConfig': {\n",
    "            'FeatureSpecificationS3Uri': 'string',\n",
    "            'AlgorithmsConfig': [\n",
    "                {\n",
    "                    'AutoMLAlgorithms': [\n",
    "                        'xgboost'|'linear-learner'|'mlp'|'lightgbm'|'catboost'|'randomforest'|'extra-trees'|'nn-torch'|'fastai',\n",
    "                    ]\n",
    "                },\n",
    "            ]\n",
    "        },\n",
    "        'Mode': 'AUTO'|'ENSEMBLING'|'HYPERPARAMETER_TUNING'\n",
    "    },\n",
    "    RoleArn='string',\n",
    "    GenerateCandidateDefinitionsOnly=True|False,\n",
    "    Tags=[\n",
    "        {\n",
    "            'Key': 'string',\n",
    "            'Value': 'string'\n",
    "        },\n",
    "    ],\n",
    "    ModelDeployConfig={\n",
    "        'AutoGenerateEndpointName': True|False,\n",
    "        'EndpointName': 'string'\n",
    "    }\n",
    ")\n",
    "'''"
   ]
  },
  {
   "cell_type": "code",
   "execution_count": null,
   "id": "eeebd89e-7430-4096-bc34-10521631f5a2",
   "metadata": {},
   "outputs": [],
   "source": []
  },
  {
   "cell_type": "code",
   "execution_count": null,
   "id": "408ba0a6-5e91-432e-8c9e-ddcb1ffff90a",
   "metadata": {},
   "outputs": [],
   "source": []
  },
  {
   "cell_type": "markdown",
   "id": "f125c0d0-fcba-48e2-81ad-78fd77aa278b",
   "metadata": {},
   "source": [
    "## データ作成"
   ]
  },
  {
   "cell_type": "code",
   "execution_count": null,
   "id": "9a9fe84d-7ce3-4160-b696-cc3983283d75",
   "metadata": {
    "tags": []
   },
   "outputs": [],
   "source": [
    "import pandas as pd\n",
    "\n",
    "# targetカラムの値を格納するリストを作成\n",
    "target_values = list(range(1, 501))\n",
    "target_values100 = list(range(1, 101))\n",
    "\n",
    "# featureカラムの値を格納するリストを作成\n",
    "feature_values = target_values\n",
    "feature_values100 = target_values100\n",
    "\n",
    "# データフレームを作成\n",
    "df = pd.DataFrame({'target': target_values, 'feature': feature_values})\n",
    "df100 = pd.DataFrame({'target': target_values100, 'feature': feature_values100})"
   ]
  },
  {
   "cell_type": "code",
   "execution_count": null,
   "id": "dcb38832-b1a2-4856-8349-ad249918accd",
   "metadata": {
    "tags": []
   },
   "outputs": [],
   "source": [
    "# 確認\n",
    "print(df.shape)\n",
    "# データフレームの最初の5行を表示\n",
    "print(df.head())"
   ]
  },
  {
   "cell_type": "code",
   "execution_count": null,
   "id": "5ef61c68-cd4d-4b14-8e63-96603d13c669",
   "metadata": {
    "tags": []
   },
   "outputs": [],
   "source": [
    "df.to_csv('df_tgt_ft_500.csv', index=False, header=True)\n",
    "df100.to_csv('df_tgt_ft_100.csv', index=False, header=True)"
   ]
  },
  {
   "cell_type": "markdown",
   "id": "cd7ed3a6-343f-4864-b854-e69965a539d7",
   "metadata": {},
   "source": [
    "## S3に配置"
   ]
  },
  {
   "cell_type": "code",
   "execution_count": null,
   "id": "f6137d01-3fa1-4b74-a31e-261c8c64f563",
   "metadata": {
    "tags": []
   },
   "outputs": [],
   "source": [
    "import boto3\n",
    "import sagemaker\n",
    "\n",
    "# SageMakerセッションを作成\n",
    "sagemaker_session = sagemaker.Session()\n",
    "\n",
    "# デフォルトのS3バケット名を取得\n",
    "bucket_name = sagemaker_session.default_bucket()\n",
    "\n",
    "# バケットが存在しない場合は作成\n",
    "if not boto3.resource('s3').Bucket(bucket_name).creation_date:\n",
    "    sagemaker_session.create_bucket(bucket_name)"
   ]
  },
  {
   "cell_type": "code",
   "execution_count": null,
   "id": "8342e2fb-556f-4f1b-9f4f-036bdc797304",
   "metadata": {
    "tags": []
   },
   "outputs": [],
   "source": [
    "# inputフォルダを作成するためのS3クライアントを作成\n",
    "s3_client = boto3.client('s3')\n",
    "# inputフォルダを作成\n",
    "s3_client.put_object(Bucket=bucket_name, Key='input/')\n",
    "s3_client.put_object(Bucket=bucket_name, Key='output/')"
   ]
  },
  {
   "cell_type": "code",
   "execution_count": null,
   "id": "a891e4fb-3798-46a2-9ac1-38a3229881dc",
   "metadata": {
    "tags": []
   },
   "outputs": [],
   "source": [
    "import os\n",
    "import boto3\n",
    "import sagemaker\n",
    "\n",
    "# SageMakerセッションを作成\n",
    "sagemaker_session = sagemaker.Session()\n",
    "\n",
    "# デフォルトのS3バケット名を取得\n",
    "bucket_name = sagemaker_session.default_bucket()\n",
    "\n",
    "# inputフォルダにアップロードするファイルのパス\n",
    "local_file_path = 'df_tgt_ft_500.csv'\n",
    "\n",
    "# アップロードするファイルのS3キー\n",
    "s3_key = os.path.join('input', local_file_path)\n",
    "\n",
    "# S3クライアントを作成\n",
    "s3_client = boto3.client('s3')\n",
    "\n",
    "# ファイルをS3バケットにアップロード\n",
    "s3_client.upload_file(local_file_path, bucket_name, s3_key)\n",
    "\n",
    "print(f\"{local_file_path} をデフォルトのS3バケット {bucket_name} の {s3_key} にアップロードしました。\")\n",
    "print(f\"s3://{bucket_name}/{s3_key}\")"
   ]
  },
  {
   "cell_type": "code",
   "execution_count": null,
   "id": "7e363351-f81d-42e7-85d4-e045ef35f6b0",
   "metadata": {
    "tags": []
   },
   "outputs": [],
   "source": [
    "# inputフォルダにアップロードするファイルのパス\n",
    "local_file_path100 = 'df_tgt_ft_100.csv'\n",
    "\n",
    "# アップロードするファイルのS3キー\n",
    "s3_key100 = os.path.join('input', local_file_path100)\n",
    "\n",
    "\n",
    "# ファイルをS3バケットにアップロード\n",
    "s3_client.upload_file(local_file_path100, bucket_name, s3_key)"
   ]
  },
  {
   "cell_type": "code",
   "execution_count": null,
   "id": "0740c92f-83a6-4e9f-96a8-7850a2d54e7b",
   "metadata": {},
   "outputs": [],
   "source": []
  },
  {
   "cell_type": "markdown",
   "id": "fdb147eb-3b59-4b3c-ba8c-f5811265ca9d",
   "metadata": {},
   "source": [
    "## AutoMLジョブの発行:boto3"
   ]
  },
  {
   "cell_type": "code",
   "execution_count": null,
   "id": "c49ba313-ce99-4d5f-8cb4-b37457387c49",
   "metadata": {
    "tags": []
   },
   "outputs": [],
   "source": [
    "import boto3\n",
    "import sagemaker\n",
    "\n",
    "# SageMakerセッションを作成\n",
    "sagemaker_session = sagemaker.Session()\n",
    "\n",
    "# IAMロール名を取得\n",
    "role = sagemaker.get_execution_role()\n",
    "\n",
    "print(f\"現在のノートブックインスタンスのIAMロール: {role}\")"
   ]
  },
  {
   "cell_type": "code",
   "execution_count": null,
   "id": "f49e8bf6-1666-4907-8cc2-784e3f084d51",
   "metadata": {
    "tags": []
   },
   "outputs": [],
   "source": [
    "import boto3\n",
    "\n",
    "client = boto3.client('sagemaker')"
   ]
  },
  {
   "cell_type": "markdown",
   "id": "45aa8906-879a-4159-b8d1-21df68d25299",
   "metadata": {},
   "source": [
    "以下、未完成"
   ]
  },
  {
   "cell_type": "code",
   "execution_count": null,
   "id": "e8ee929e-a62c-4370-bc4b-489b653d0b1b",
   "metadata": {
    "tags": []
   },
   "outputs": [],
   "source": [
    "response = client.create_auto_ml_job(\n",
    "    AutoMLJobName='demo1',\n",
    "    InputDataConfig=[\n",
    "        {\n",
    "            'DataSource': {\n",
    "                'S3DataSource': {\n",
    "                    'S3DataType': 'ManifestFile',\n",
    "                    'S3Uri': 's3://sagemaker-us-east-1-805433377179/input/df_tgt_ft_500.csv'\n",
    "                }\n",
    "            },\n",
    "            'TargetAttributeName': 'target',\n",
    "        },\n",
    "    ],\n",
    "    OutputDataConfig={\n",
    "        'S3OutputPath': 's3://sagemaker-us-east-1-805433377179/output/'\n",
    "    },\n",
    "    ProblemType='Regression',\n",
    "    AutoMLJobObjective={\n",
    "        'MetricName': 'MSE'\n",
    "    },\n",
    "    AutoMLJobConfig={\n",
    "        'CompletionCriteria': {\n",
    "            'MaxCandidates': 15,\n",
    "        },\n",
    "        'DataSplitConfig': {\n",
    "            'ValidationFraction': 0.2\n",
    "        },\n",
    "        #'CandidateGenerationConfig': {\n",
    "        #    'AlgorithmsConfig': [\n",
    "        #        {\n",
    "        #            'AutoMLAlgorithms': [\n",
    "        #                'xgboost',\n",
    "        #            ]\n",
    "        #        },\n",
    "        #    ]\n",
    "        #},\n",
    "        'Mode': 'AUTO'\n",
    "    },\n",
    "    RoleArn=role,\n",
    ")"
   ]
  },
  {
   "cell_type": "code",
   "execution_count": null,
   "id": "c16d7ab8-fda1-4b4b-b8ca-8653a72c1479",
   "metadata": {},
   "outputs": [],
   "source": []
  },
  {
   "cell_type": "markdown",
   "id": "f7dcdc1c-d86a-45f5-8992-f14734046d7a",
   "metadata": {},
   "source": [
    "# 結果の確認"
   ]
  },
  {
   "cell_type": "code",
   "execution_count": null,
   "id": "01744d4e-7128-477d-a8de-16abc79c346e",
   "metadata": {},
   "outputs": [],
   "source": []
  },
  {
   "cell_type": "markdown",
   "id": "2e954bd0-7e95-44e5-9996-009f6660b1f8",
   "metadata": {},
   "source": [
    "# SageMaker SDKの AutoMLで実行する場合\n",
    "\n",
    "https://github.com/aws/amazon-sagemaker-examples/blob/main/autopilot/autopilot_customer_churn_high_level_with_evaluation.ipynb"
   ]
  },
  {
   "cell_type": "code",
   "execution_count": null,
   "id": "31873e06-2751-47cd-b747-ab8b8c542f7f",
   "metadata": {
    "tags": []
   },
   "outputs": [],
   "source": [
    "session = sagemaker.Session()"
   ]
  },
  {
   "cell_type": "code",
   "execution_count": null,
   "id": "565ecde8-aef6-4791-b6d5-ba6f0f22a7ee",
   "metadata": {
    "tags": []
   },
   "outputs": [],
   "source": [
    "from sagemaker import AutoML"
   ]
  },
  {
   "cell_type": "code",
   "execution_count": null,
   "id": "50437c39-a661-41ba-a18b-3264784d25fd",
   "metadata": {
    "tags": []
   },
   "outputs": [],
   "source": [
    "print(role)\n",
    "print(session)"
   ]
  },
  {
   "cell_type": "code",
   "execution_count": null,
   "id": "58600ece-0e9b-4a5e-9fe8-d7f6cad29cbd",
   "metadata": {
    "tags": []
   },
   "outputs": [],
   "source": [
    "from time import gmtime, strftime, sleep\n",
    "\n",
    "timestamp_suffix = strftime(\"%d-%H-%M-%S\", gmtime())\n",
    "base_job_name = \"exp-autopilot-\" + timestamp_suffix\n",
    "\n",
    "base_job_name"
   ]
  },
  {
   "cell_type": "markdown",
   "id": "87b0b464-67d7-410c-a7b9-39aee6921139",
   "metadata": {},
   "source": [
    "AutoML()の引数は以下を参考\n",
    "https://sagemaker.readthedocs.io/en/stable/api/training/automl.html#sagemaker.automl.automl.AutoML"
   ]
  },
  {
   "cell_type": "code",
   "execution_count": null,
   "id": "289a7383-9748-4081-85f5-2dbeb062e39e",
   "metadata": {
    "tags": []
   },
   "outputs": [],
   "source": [
    "automl = AutoML(\n",
    "    role=role,\n",
    "    target_attribute_name='target',\n",
    "    base_job_name=base_job_name,\n",
    "    problem_type='Regression',\n",
    "    job_objective={\"MetricName\":\"MSE\"},\n",
    "    validation_fraction=0.5,\n",
    "    sagemaker_session=session,\n",
    "    max_candidates=20,\n",
    ")"
   ]
  },
  {
   "cell_type": "code",
   "execution_count": null,
   "id": "dd0f01b0-d4f6-443c-94f0-f5ed4d50c452",
   "metadata": {
    "tags": []
   },
   "outputs": [],
   "source": [
    "train_file = './df_tgt_ft_500.csv'"
   ]
  },
  {
   "cell_type": "code",
   "execution_count": null,
   "id": "c68adb12-daeb-482e-a0ca-04a2552308dc",
   "metadata": {
    "tags": []
   },
   "outputs": [],
   "source": [
    "print(train_file)"
   ]
  },
  {
   "cell_type": "markdown",
   "id": "7ef62a4b-d500-473b-8134-b51ce7c6c0f4",
   "metadata": {},
   "source": [
    "ローカルのファイル指定でもOK"
   ]
  },
  {
   "cell_type": "code",
   "execution_count": null,
   "id": "f1d2bdb4-cd40-4a9c-aecb-d35da2c03257",
   "metadata": {
    "tags": []
   },
   "outputs": [],
   "source": [
    "automl.fit(train_file, job_name=base_job_name, wait=False, logs=True)"
   ]
  },
  {
   "cell_type": "code",
   "execution_count": null,
   "id": "7b91a600-90a7-4657-bce4-e1aefdea717f",
   "metadata": {},
   "outputs": [],
   "source": []
  },
  {
   "cell_type": "markdown",
   "id": "15974e30-2cb2-4686-927c-e5286762f2a7",
   "metadata": {},
   "source": [
    "### 100行のデータの場合"
   ]
  },
  {
   "cell_type": "code",
   "execution_count": null,
   "id": "7791171a-d6c7-4800-8a95-43ddc4d1945f",
   "metadata": {
    "tags": []
   },
   "outputs": [],
   "source": [
    "base_job_name100 = 'exp-autopilot100_1'"
   ]
  },
  {
   "cell_type": "code",
   "execution_count": null,
   "id": "512339ad-c384-4daf-9914-ceb6cf0515ca",
   "metadata": {
    "tags": []
   },
   "outputs": [],
   "source": [
    "automl = AutoML(\n",
    "    role=role,\n",
    "    target_attribute_name='target',\n",
    "    base_job_name=base_job_name100,\n",
    "    problem_type='Regression',\n",
    "    job_objective={\"MetricName\":\"MSE\"},\n",
    "    sagemaker_session=session,\n",
    "    max_candidates=20,\n",
    ")"
   ]
  },
  {
   "cell_type": "code",
   "execution_count": null,
   "id": "e50b3989-293e-4243-a59b-33e277a85e79",
   "metadata": {
    "tags": []
   },
   "outputs": [],
   "source": [
    "train_file100 = './df_tgt_ft_100.csv'"
   ]
  },
  {
   "cell_type": "code",
   "execution_count": null,
   "id": "1bb19378-1030-4b9c-975e-4643e6148010",
   "metadata": {
    "tags": []
   },
   "outputs": [],
   "source": [
    "automl.fit(train_file100, job_name=base_job_name, wait=False, logs=True)"
   ]
  },
  {
   "cell_type": "markdown",
   "id": "2f5e8276-65a9-4ae7-862b-56f2f9c76087",
   "metadata": {},
   "source": [
    "ClientError: An error occurred (ValidationException) when calling the CreateAutoMLJob operation: Dataset is not large enough: expected minimum number of rows is 500 but only 100 were found."
   ]
  },
  {
   "cell_type": "markdown",
   "id": "5e361e88-2087-4b70-bf57-f60d7b80c2a5",
   "metadata": {},
   "source": [
    "必要最低行数は500だった"
   ]
  },
  {
   "cell_type": "markdown",
   "id": "05acda22-bd4f-493c-a3d1-b80930d32a41",
   "metadata": {},
   "source": [
    "# 処理の流れ\n",
    "* Processing Job : db\n",
    "* Processing Job : pr\n",
    "* Training Job : dpp0 - 4 の、　5こほど\n",
    "* FeatureEngineering : Studioコンソールではくるくる処理しているのが見えるが、マネコンからは確認できず？？\n",
    "* HPO : 20(max_candidates パラメータで指定） の Training Job が発行される。"
   ]
  },
  {
   "cell_type": "markdown",
   "id": "53cdf569-61b1-4091-be33-873328784b5a",
   "metadata": {},
   "source": [
    "https://github.com/aws/sagemaker-xgboost-container/blob/master/src/sagemaker_xgboost_container/algorithm_mode/train.py\n",
    "\n",
    "をみると"
   ]
  },
  {
   "cell_type": "markdown",
   "id": "2ab50787-92bb-48de-83ca-bb00a5592034",
   "metadata": {},
   "source": [
    "        else:\n",
    "            num_cv_round = train_cfg.pop(\"_num_cv_round\", 1)\n",
    "\n",
    "            logging.info(\n",
    "                \"Run {}-round of {}-fold cross validation with {} rows\".format(\n",
    "                    num_cv_round, kfold, train_val_dmatrix.num_row()\n",
    "                )\n",
    "            )"
   ]
  },
  {
   "cell_type": "markdown",
   "id": "6ef3d8f9-fd4a-4007-9890-ea34a9b5e28a",
   "metadata": {},
   "source": [
    "## CloudWatchのログをみてみると\n",
    "\n",
    "* HPOジョブ結果のベスト1から、該当Training Job詳細いいき、 View logsをみる"
   ]
  },
  {
   "cell_type": "markdown",
   "id": "86f0b49d-2116-4e12-90ac-e3041eea69f6",
   "metadata": {},
   "source": [
    "# 分割方法\n",
    "\n",
    "https://docs.aws.amazon.com/sagemaker/latest/dg/autopilot-metrics-validation.html\n",
    "\n",
    "ここにあるが、k-fold=5で、各20%ずつのはず。。。だが、96データがvalidation...\n",
    "\n",
    "\n",
    "そして、roundが３なのは、おそらく分割方法が3パターンあるということ（seedのようなもの）\n",
    "\n",
    "で、系15セットのavearegeで評価している（と思われる）\n",
    "\n",
    "\n"
   ]
  },
  {
   "cell_type": "markdown",
   "id": "9e8bd054-7d51-487e-b65c-e2d732d3b855",
   "metadata": {},
   "source": [
    "# 確認\n",
    "\n",
    "* 分割はランダム?\n",
    "* roundは分割の際のseedという認識でOK？\n",
    "\n",
    "* なぜvalid data数が96なの？20%なら100では？\n",
    "\n",
    "* 最終のモデルはアンサンブル？？（デプロイして、予測してみればわかる）"
   ]
  },
  {
   "cell_type": "markdown",
   "id": "70ded55b-8730-4f48-8ace-84e63d7f2e24",
   "metadata": {},
   "source": [
    "* 誤差10000くらいあるのは、MLP by mxnet: 分割サンプル数は、CloudWatchLogみてもなぞ\n",
    "* 10-20くらいは、XGBoostのdpp4\n",
    "* 8000くらいは、dpp2のll(Linear Learner): 50epochなので、LLってneural netなのか？\n"
   ]
  }
 ],
 "metadata": {
  "instance_type": "ml.m5.large",
  "kernelspec": {
   "display_name": "Python 3 (Data Science)",
   "language": "python",
   "name": "python3__SAGEMAKER_INTERNAL__arn:aws:sagemaker:us-east-1:081325390199:image/datascience-1.0"
  },
  "language_info": {
   "codemirror_mode": {
    "name": "ipython",
    "version": 3
   },
   "file_extension": ".py",
   "mimetype": "text/x-python",
   "name": "python",
   "nbconvert_exporter": "python",
   "pygments_lexer": "ipython3",
   "version": "3.7.10"
  }
 },
 "nbformat": 4,
 "nbformat_minor": 5
}
